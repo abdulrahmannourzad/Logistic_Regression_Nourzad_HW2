{
 "cells": [
  {
   "cell_type": "markdown",
   "id": "ffd33b40",
   "metadata": {},
   "source": [
    "<h1 align=\"center\"><font size = 8>Machine Learning | 2024 </font></h1>\n",
    "<br>\n",
    "<h2 align=\"center\"><font size = 6  color=\"darkblue\"> Logistic Regression </font></h2>\n",
    "<h3 align=\"center\">Abdulrahman Nourzad</h3>\n",
    "<h4 align=\"center\">Master's in Computer Software Engineering & Post DBA in Business Intelligence</h4>\n",
    "<br>\n",
    "<br>\n",
    "<br>"
   ]
  },
  {
   "cell_type": "markdown",
   "id": "0d16e80e",
   "metadata": {},
   "source": [
    "## Project 4: predicting bank customer churn with logistic regression algorithm"
   ]
  },
  {
   "cell_type": "markdown",
   "id": "b753bf41",
   "metadata": {},
   "source": [
    "<div class=\"alert alert-info\" role=\"alert\">\n",
    "  <h1 class=\"alert-heading\">Links:</h1>\n",
    "  <a href=\"https://www.linkedin.com/in/abdulrahman-nourzad-9a427942/\">LinkedIn</a><br>\n",
    "  <a href=\"https://github.com/abdulrahmannourzad/Logistic_Regression_Nourzad_HW2\">GitHub Repository</a><br>\n",
    "  <a href=\"https://www.kaggle.com/code/abdulrahmannourzad/notebook-logistic-regression-hw2\">Kaggle</a><br>\n",
    "</div>"
   ]
  },
  {
   "cell_type": "markdown",
   "id": "dd2585f1",
   "metadata": {},
   "source": [
    "# Step 1: Introduction of problem definition & business goal"
   ]
  },
  {
   "cell_type": "markdown",
   "id": "a688d9fb",
   "metadata": {},
   "source": [
    "### 🟣 A: Description\n",
    "- <strong>Logistic Regression</strong> is a supervised machine learning algorithm mainly used for binary classification where we use a logistic function, also known as a sigmoid function that takes input as independent variables and produces a probability value between 0 and 1. For example, we have two classes Class 0 and Class 1 if the value of the logistic function for an input is greater than 0.5 (threshold value) then it belongs to Class 1 it belongs to Class 0. It’s referred to as regression because it is the extension of linear regression but is mainly used for classification problems. The difference between linear regression and logistic regression is that linear regression output is the continuous value that can be anything while logistic regression predicts the probability that an instance belongs to a given class or not.\n",
    "\n",
    "- <strong>Bank customer churn </strong>has become a big issue in many banks because it costs a lot more to acquire a new customer than retaining existing ones. With the use of a customer churn prediction model possible churners in a bank can be identified, and as a result the bank can take some action to prevent them from leaving.\n",
    "- Please look at the image below which shows well the concept of churn:\n",
    "\n",
    "<img src=\"images/churn_1.png\">"
   ]
  },
  {
   "cell_type": "markdown",
   "id": "6291aa75",
   "metadata": {},
   "source": [
    "### 🟣 B: About Dataset\n",
    "The bank customer churn dataset is a commonly used dataset for predicting customer churn in the banking industry. It contains information on bank customers who either left the bank or continue to be a customer. The object of the dataset is to predict which customers are likely to churn, based on the input features provided. The dataset can be used for classification tasks using various machine learning algorithms, such as logistic regression. By predicting customer churn, banks can take appropriate measures to retain their customers and reduce customer turnover.\n",
    "\n",
    "#### Shape of the Bank Customer Churn dataset:\n",
    "The bank customer churn dataset involves 12 columns and 10000 records.\n",
    "\n",
    "This dataset includes the following columns:\n",
    "\n",
    "1. customer_id: A unique identifier for each customer\n",
    "\n",
    "2. credit_score: A numerical value representing the customer's credit score\n",
    "\n",
    "3. country: The country where the customer resides (France, Spain, Germany)\n",
    "\n",
    "4. gender: The customer's gender (Male or Female)\n",
    "\n",
    "5. age: The customer's age\n",
    "\n",
    "6. tenure: The number of years the customer has been with the bank\n",
    "\n",
    "7. balance: The customer's account balance\n",
    "\n",
    "8. products_number: The number of bank products the customer uses (e.g., savings account, credit card)\n",
    "\n",
    "9. credit_card: Whether the customer has a credit card (1 = yes, 0 = no)\n",
    "\n",
    "10. active_member: Whether the customer is an active member (1 = yes, 0 = no)\n",
    "\n",
    "11. estimated_salary: The estimated salary of the customer\n",
    "\n",
    "12. churn: Whether the customer has churned (1 = yes, 0 = no)"
   ]
  },
  {
   "cell_type": "markdown",
   "id": "9f82fbe3",
   "metadata": {},
   "source": [
    "### 🟣 C: Objective\n",
    "- Conducting exploratory analysis to gain insight into the primary factors affecting customer churn.\n",
    "- Build classification model with Logistic Regression to predict bank customer churn.\n",
    "- fine-tune the hyperparameters & evaluation metrics of model."
   ]
  },
  {
   "cell_type": "markdown",
   "id": "e532b511",
   "metadata": {},
   "source": [
    "# Step 2: Import necessary libraries"
   ]
  },
  {
   "cell_type": "code",
   "execution_count": 1,
   "id": "33229694",
   "metadata": {},
   "outputs": [],
   "source": [
    "import numpy as np\n",
    "import pandas as pd\n",
    "import matplotlib.pyplot as plt\n",
    "import seaborn as sns\n",
    "from summarytools import dfSummary\n",
    "\n",
    "from sklearn.model_selection import train_test_split\n",
    "from sklearn.preprocessing import StandardScaler, OneHotEncoder\n",
    "from sklearn.linear_model import LogisticRegression\n",
    "\n",
    "from sklearn.metrics import accuracy_score, precision_score, recall_score, f1_score, log_loss, roc_curve\n",
    "from sklearn.metrics import accuracy_score, confusion_matrix, classification_report\n",
    "\n",
    "import warnings\n",
    "warnings.filterwarnings(\"ignore\")"
   ]
  },
  {
   "cell_type": "markdown",
   "id": "0aeff1a6",
   "metadata": {},
   "source": [
    "# Step 3: Read Data & Overview"
   ]
  },
  {
   "cell_type": "code",
   "execution_count": 2,
   "id": "b04ed4fd",
   "metadata": {},
   "outputs": [],
   "source": [
    "data_churn = pd.read_csv(\"Bank Customer Churn Prediction.csv\")"
   ]
  },
  {
   "cell_type": "code",
   "execution_count": 3,
   "id": "4b54e40a",
   "metadata": {},
   "outputs": [
    {
     "data": {
      "text/html": [
       "<div>\n",
       "<style scoped>\n",
       "    .dataframe tbody tr th:only-of-type {\n",
       "        vertical-align: middle;\n",
       "    }\n",
       "\n",
       "    .dataframe tbody tr th {\n",
       "        vertical-align: top;\n",
       "    }\n",
       "\n",
       "    .dataframe thead th {\n",
       "        text-align: right;\n",
       "    }\n",
       "</style>\n",
       "<table border=\"1\" class=\"dataframe\">\n",
       "  <thead>\n",
       "    <tr style=\"text-align: right;\">\n",
       "      <th></th>\n",
       "      <th>customer_id</th>\n",
       "      <th>credit_score</th>\n",
       "      <th>country</th>\n",
       "      <th>gender</th>\n",
       "      <th>age</th>\n",
       "      <th>tenure</th>\n",
       "      <th>balance</th>\n",
       "      <th>products_number</th>\n",
       "      <th>credit_card</th>\n",
       "      <th>active_member</th>\n",
       "      <th>estimated_salary</th>\n",
       "      <th>churn</th>\n",
       "    </tr>\n",
       "  </thead>\n",
       "  <tbody>\n",
       "    <tr>\n",
       "      <th>0</th>\n",
       "      <td>15634602</td>\n",
       "      <td>619</td>\n",
       "      <td>France</td>\n",
       "      <td>Female</td>\n",
       "      <td>42</td>\n",
       "      <td>2</td>\n",
       "      <td>0.00</td>\n",
       "      <td>1</td>\n",
       "      <td>1</td>\n",
       "      <td>1</td>\n",
       "      <td>101348.88</td>\n",
       "      <td>1</td>\n",
       "    </tr>\n",
       "    <tr>\n",
       "      <th>1</th>\n",
       "      <td>15647311</td>\n",
       "      <td>608</td>\n",
       "      <td>Spain</td>\n",
       "      <td>Female</td>\n",
       "      <td>41</td>\n",
       "      <td>1</td>\n",
       "      <td>83807.86</td>\n",
       "      <td>1</td>\n",
       "      <td>0</td>\n",
       "      <td>1</td>\n",
       "      <td>112542.58</td>\n",
       "      <td>0</td>\n",
       "    </tr>\n",
       "    <tr>\n",
       "      <th>2</th>\n",
       "      <td>15619304</td>\n",
       "      <td>502</td>\n",
       "      <td>France</td>\n",
       "      <td>Female</td>\n",
       "      <td>42</td>\n",
       "      <td>8</td>\n",
       "      <td>159660.80</td>\n",
       "      <td>3</td>\n",
       "      <td>1</td>\n",
       "      <td>0</td>\n",
       "      <td>113931.57</td>\n",
       "      <td>1</td>\n",
       "    </tr>\n",
       "    <tr>\n",
       "      <th>3</th>\n",
       "      <td>15701354</td>\n",
       "      <td>699</td>\n",
       "      <td>France</td>\n",
       "      <td>Female</td>\n",
       "      <td>39</td>\n",
       "      <td>1</td>\n",
       "      <td>0.00</td>\n",
       "      <td>2</td>\n",
       "      <td>0</td>\n",
       "      <td>0</td>\n",
       "      <td>93826.63</td>\n",
       "      <td>0</td>\n",
       "    </tr>\n",
       "    <tr>\n",
       "      <th>4</th>\n",
       "      <td>15737888</td>\n",
       "      <td>850</td>\n",
       "      <td>Spain</td>\n",
       "      <td>Female</td>\n",
       "      <td>43</td>\n",
       "      <td>2</td>\n",
       "      <td>125510.82</td>\n",
       "      <td>1</td>\n",
       "      <td>1</td>\n",
       "      <td>1</td>\n",
       "      <td>79084.10</td>\n",
       "      <td>0</td>\n",
       "    </tr>\n",
       "  </tbody>\n",
       "</table>\n",
       "</div>"
      ],
      "text/plain": [
       "   customer_id  credit_score country  gender  age  tenure    balance  \\\n",
       "0     15634602           619  France  Female   42       2       0.00   \n",
       "1     15647311           608   Spain  Female   41       1   83807.86   \n",
       "2     15619304           502  France  Female   42       8  159660.80   \n",
       "3     15701354           699  France  Female   39       1       0.00   \n",
       "4     15737888           850   Spain  Female   43       2  125510.82   \n",
       "\n",
       "   products_number  credit_card  active_member  estimated_salary  churn  \n",
       "0                1            1              1         101348.88      1  \n",
       "1                1            0              1         112542.58      0  \n",
       "2                3            1              0         113931.57      1  \n",
       "3                2            0              0          93826.63      0  \n",
       "4                1            1              1          79084.10      0  "
      ]
     },
     "execution_count": 3,
     "metadata": {},
     "output_type": "execute_result"
    }
   ],
   "source": [
    "data_churn.head()"
   ]
  },
  {
   "cell_type": "code",
   "execution_count": 4,
   "id": "385f5600",
   "metadata": {},
   "outputs": [
    {
     "data": {
      "text/html": [
       "<div>\n",
       "<style scoped>\n",
       "    .dataframe tbody tr th:only-of-type {\n",
       "        vertical-align: middle;\n",
       "    }\n",
       "\n",
       "    .dataframe tbody tr th {\n",
       "        vertical-align: top;\n",
       "    }\n",
       "\n",
       "    .dataframe thead th {\n",
       "        text-align: right;\n",
       "    }\n",
       "</style>\n",
       "<table border=\"1\" class=\"dataframe\">\n",
       "  <thead>\n",
       "    <tr style=\"text-align: right;\">\n",
       "      <th></th>\n",
       "      <th>Shape of data</th>\n",
       "    </tr>\n",
       "  </thead>\n",
       "  <tbody>\n",
       "    <tr>\n",
       "      <th>Rows</th>\n",
       "      <td>10000</td>\n",
       "    </tr>\n",
       "    <tr>\n",
       "      <th>Columns</th>\n",
       "      <td>12</td>\n",
       "    </tr>\n",
       "  </tbody>\n",
       "</table>\n",
       "</div>"
      ],
      "text/plain": [
       "         Shape of data\n",
       "Rows             10000\n",
       "Columns             12"
      ]
     },
     "execution_count": 4,
     "metadata": {},
     "output_type": "execute_result"
    }
   ],
   "source": [
    "row = data_churn.shape[0]\n",
    "column = data_churn.shape[1]\n",
    "results = pd.DataFrame([[row], [column]], columns=['Shape of data'], index=['Rows', 'Columns'])\n",
    "results"
   ]
  },
  {
   "cell_type": "code",
   "execution_count": 5,
   "id": "78b71b9d",
   "metadata": {},
   "outputs": [
    {
     "name": "stdout",
     "output_type": "stream",
     "text": [
      "<class 'pandas.core.frame.DataFrame'>\n",
      "RangeIndex: 10000 entries, 0 to 9999\n",
      "Data columns (total 12 columns):\n",
      " #   Column            Non-Null Count  Dtype  \n",
      "---  ------            --------------  -----  \n",
      " 0   customer_id       10000 non-null  int64  \n",
      " 1   credit_score      10000 non-null  int64  \n",
      " 2   country           10000 non-null  object \n",
      " 3   gender            10000 non-null  object \n",
      " 4   age               10000 non-null  int64  \n",
      " 5   tenure            10000 non-null  int64  \n",
      " 6   balance           10000 non-null  float64\n",
      " 7   products_number   10000 non-null  int64  \n",
      " 8   credit_card       10000 non-null  int64  \n",
      " 9   active_member     10000 non-null  int64  \n",
      " 10  estimated_salary  10000 non-null  float64\n",
      " 11  churn             10000 non-null  int64  \n",
      "dtypes: float64(2), int64(8), object(2)\n",
      "memory usage: 937.6+ KB\n"
     ]
    }
   ],
   "source": [
    "data_churn.info()"
   ]
  },
  {
   "cell_type": "code",
   "execution_count": 6,
   "id": "677bb286",
   "metadata": {},
   "outputs": [
    {
     "data": {
      "text/html": [
       "<div>\n",
       "<style scoped>\n",
       "    .dataframe tbody tr th:only-of-type {\n",
       "        vertical-align: middle;\n",
       "    }\n",
       "\n",
       "    .dataframe tbody tr th {\n",
       "        vertical-align: top;\n",
       "    }\n",
       "\n",
       "    .dataframe thead th {\n",
       "        text-align: right;\n",
       "    }\n",
       "</style>\n",
       "<table border=\"1\" class=\"dataframe\">\n",
       "  <thead>\n",
       "    <tr style=\"text-align: right;\">\n",
       "      <th></th>\n",
       "      <th>count</th>\n",
       "      <th>unique</th>\n",
       "      <th>top</th>\n",
       "      <th>freq</th>\n",
       "      <th>mean</th>\n",
       "      <th>std</th>\n",
       "      <th>min</th>\n",
       "      <th>25%</th>\n",
       "      <th>50%</th>\n",
       "      <th>75%</th>\n",
       "      <th>max</th>\n",
       "    </tr>\n",
       "  </thead>\n",
       "  <tbody>\n",
       "    <tr>\n",
       "      <th>customer_id</th>\n",
       "      <td>10000.0</td>\n",
       "      <td>NaN</td>\n",
       "      <td>NaN</td>\n",
       "      <td>NaN</td>\n",
       "      <td>15690940.5694</td>\n",
       "      <td>71936.186123</td>\n",
       "      <td>15565701.0</td>\n",
       "      <td>15628528.25</td>\n",
       "      <td>15690738.0</td>\n",
       "      <td>15753233.75</td>\n",
       "      <td>15815690.0</td>\n",
       "    </tr>\n",
       "    <tr>\n",
       "      <th>credit_score</th>\n",
       "      <td>10000.0</td>\n",
       "      <td>NaN</td>\n",
       "      <td>NaN</td>\n",
       "      <td>NaN</td>\n",
       "      <td>650.5288</td>\n",
       "      <td>96.653299</td>\n",
       "      <td>350.0</td>\n",
       "      <td>584.0</td>\n",
       "      <td>652.0</td>\n",
       "      <td>718.0</td>\n",
       "      <td>850.0</td>\n",
       "    </tr>\n",
       "    <tr>\n",
       "      <th>country</th>\n",
       "      <td>10000</td>\n",
       "      <td>3</td>\n",
       "      <td>France</td>\n",
       "      <td>5014</td>\n",
       "      <td>NaN</td>\n",
       "      <td>NaN</td>\n",
       "      <td>NaN</td>\n",
       "      <td>NaN</td>\n",
       "      <td>NaN</td>\n",
       "      <td>NaN</td>\n",
       "      <td>NaN</td>\n",
       "    </tr>\n",
       "    <tr>\n",
       "      <th>gender</th>\n",
       "      <td>10000</td>\n",
       "      <td>2</td>\n",
       "      <td>Male</td>\n",
       "      <td>5457</td>\n",
       "      <td>NaN</td>\n",
       "      <td>NaN</td>\n",
       "      <td>NaN</td>\n",
       "      <td>NaN</td>\n",
       "      <td>NaN</td>\n",
       "      <td>NaN</td>\n",
       "      <td>NaN</td>\n",
       "    </tr>\n",
       "    <tr>\n",
       "      <th>age</th>\n",
       "      <td>10000.0</td>\n",
       "      <td>NaN</td>\n",
       "      <td>NaN</td>\n",
       "      <td>NaN</td>\n",
       "      <td>38.9218</td>\n",
       "      <td>10.487806</td>\n",
       "      <td>18.0</td>\n",
       "      <td>32.0</td>\n",
       "      <td>37.0</td>\n",
       "      <td>44.0</td>\n",
       "      <td>92.0</td>\n",
       "    </tr>\n",
       "    <tr>\n",
       "      <th>tenure</th>\n",
       "      <td>10000.0</td>\n",
       "      <td>NaN</td>\n",
       "      <td>NaN</td>\n",
       "      <td>NaN</td>\n",
       "      <td>5.0128</td>\n",
       "      <td>2.892174</td>\n",
       "      <td>0.0</td>\n",
       "      <td>3.0</td>\n",
       "      <td>5.0</td>\n",
       "      <td>7.0</td>\n",
       "      <td>10.0</td>\n",
       "    </tr>\n",
       "    <tr>\n",
       "      <th>balance</th>\n",
       "      <td>10000.0</td>\n",
       "      <td>NaN</td>\n",
       "      <td>NaN</td>\n",
       "      <td>NaN</td>\n",
       "      <td>76485.889288</td>\n",
       "      <td>62397.405202</td>\n",
       "      <td>0.0</td>\n",
       "      <td>0.0</td>\n",
       "      <td>97198.54</td>\n",
       "      <td>127644.24</td>\n",
       "      <td>250898.09</td>\n",
       "    </tr>\n",
       "    <tr>\n",
       "      <th>products_number</th>\n",
       "      <td>10000.0</td>\n",
       "      <td>NaN</td>\n",
       "      <td>NaN</td>\n",
       "      <td>NaN</td>\n",
       "      <td>1.5302</td>\n",
       "      <td>0.581654</td>\n",
       "      <td>1.0</td>\n",
       "      <td>1.0</td>\n",
       "      <td>1.0</td>\n",
       "      <td>2.0</td>\n",
       "      <td>4.0</td>\n",
       "    </tr>\n",
       "    <tr>\n",
       "      <th>credit_card</th>\n",
       "      <td>10000.0</td>\n",
       "      <td>NaN</td>\n",
       "      <td>NaN</td>\n",
       "      <td>NaN</td>\n",
       "      <td>0.7055</td>\n",
       "      <td>0.45584</td>\n",
       "      <td>0.0</td>\n",
       "      <td>0.0</td>\n",
       "      <td>1.0</td>\n",
       "      <td>1.0</td>\n",
       "      <td>1.0</td>\n",
       "    </tr>\n",
       "    <tr>\n",
       "      <th>active_member</th>\n",
       "      <td>10000.0</td>\n",
       "      <td>NaN</td>\n",
       "      <td>NaN</td>\n",
       "      <td>NaN</td>\n",
       "      <td>0.5151</td>\n",
       "      <td>0.499797</td>\n",
       "      <td>0.0</td>\n",
       "      <td>0.0</td>\n",
       "      <td>1.0</td>\n",
       "      <td>1.0</td>\n",
       "      <td>1.0</td>\n",
       "    </tr>\n",
       "    <tr>\n",
       "      <th>estimated_salary</th>\n",
       "      <td>10000.0</td>\n",
       "      <td>NaN</td>\n",
       "      <td>NaN</td>\n",
       "      <td>NaN</td>\n",
       "      <td>100090.239881</td>\n",
       "      <td>57510.492818</td>\n",
       "      <td>11.58</td>\n",
       "      <td>51002.11</td>\n",
       "      <td>100193.915</td>\n",
       "      <td>149388.2475</td>\n",
       "      <td>199992.48</td>\n",
       "    </tr>\n",
       "    <tr>\n",
       "      <th>churn</th>\n",
       "      <td>10000.0</td>\n",
       "      <td>NaN</td>\n",
       "      <td>NaN</td>\n",
       "      <td>NaN</td>\n",
       "      <td>0.2037</td>\n",
       "      <td>0.402769</td>\n",
       "      <td>0.0</td>\n",
       "      <td>0.0</td>\n",
       "      <td>0.0</td>\n",
       "      <td>0.0</td>\n",
       "      <td>1.0</td>\n",
       "    </tr>\n",
       "  </tbody>\n",
       "</table>\n",
       "</div>"
      ],
      "text/plain": [
       "                    count unique     top  freq           mean           std  \\\n",
       "customer_id       10000.0    NaN     NaN   NaN  15690940.5694  71936.186123   \n",
       "credit_score      10000.0    NaN     NaN   NaN       650.5288     96.653299   \n",
       "country             10000      3  France  5014            NaN           NaN   \n",
       "gender              10000      2    Male  5457            NaN           NaN   \n",
       "age               10000.0    NaN     NaN   NaN        38.9218     10.487806   \n",
       "tenure            10000.0    NaN     NaN   NaN         5.0128      2.892174   \n",
       "balance           10000.0    NaN     NaN   NaN   76485.889288  62397.405202   \n",
       "products_number   10000.0    NaN     NaN   NaN         1.5302      0.581654   \n",
       "credit_card       10000.0    NaN     NaN   NaN         0.7055       0.45584   \n",
       "active_member     10000.0    NaN     NaN   NaN         0.5151      0.499797   \n",
       "estimated_salary  10000.0    NaN     NaN   NaN  100090.239881  57510.492818   \n",
       "churn             10000.0    NaN     NaN   NaN         0.2037      0.402769   \n",
       "\n",
       "                         min          25%         50%          75%         max  \n",
       "customer_id       15565701.0  15628528.25  15690738.0  15753233.75  15815690.0  \n",
       "credit_score           350.0        584.0       652.0        718.0       850.0  \n",
       "country                  NaN          NaN         NaN          NaN         NaN  \n",
       "gender                   NaN          NaN         NaN          NaN         NaN  \n",
       "age                     18.0         32.0        37.0         44.0        92.0  \n",
       "tenure                   0.0          3.0         5.0          7.0        10.0  \n",
       "balance                  0.0          0.0    97198.54    127644.24   250898.09  \n",
       "products_number          1.0          1.0         1.0          2.0         4.0  \n",
       "credit_card              0.0          0.0         1.0          1.0         1.0  \n",
       "active_member            0.0          0.0         1.0          1.0         1.0  \n",
       "estimated_salary       11.58     51002.11  100193.915  149388.2475   199992.48  \n",
       "churn                    0.0          0.0         0.0          0.0         1.0  "
      ]
     },
     "execution_count": 6,
     "metadata": {},
     "output_type": "execute_result"
    }
   ],
   "source": [
    "#Checking basic statistical data by feature\n",
    "\n",
    "data_churn.describe(include=\"all\").T"
   ]
  },
  {
   "cell_type": "code",
   "execution_count": 7,
   "id": "4d3cfdde",
   "metadata": {},
   "outputs": [
    {
     "data": {
      "text/html": [
       "<style type=\"text/css\">\n",
       "#T_ae470 thead>tr>th {\n",
       "  text-align: left;\n",
       "}\n",
       "#T_ae470_row0_col0, #T_ae470_row1_col0, #T_ae470_row2_col0, #T_ae470_row3_col0, #T_ae470_row4_col0, #T_ae470_row5_col0, #T_ae470_row6_col0, #T_ae470_row7_col0, #T_ae470_row8_col0, #T_ae470_row9_col0, #T_ae470_row10_col0, #T_ae470_row11_col0 {\n",
       "  text-align: left;\n",
       "  font-size: 12px;\n",
       "  vertical-align: middle;\n",
       "  width: 5%;\n",
       "  max-width: 50px;\n",
       "  min-width: 20px;\n",
       "}\n",
       "#T_ae470_row0_col1, #T_ae470_row1_col1, #T_ae470_row2_col1, #T_ae470_row3_col1, #T_ae470_row4_col1, #T_ae470_row5_col1, #T_ae470_row6_col1, #T_ae470_row7_col1, #T_ae470_row8_col1, #T_ae470_row9_col1, #T_ae470_row10_col1, #T_ae470_row11_col1 {\n",
       "  text-align: left;\n",
       "  font-size: 12px;\n",
       "  vertical-align: middle;\n",
       "  width: 15%;\n",
       "  max-width: 200px;\n",
       "  min-width: 100px;\n",
       "  word-break: break-word;\n",
       "}\n",
       "#T_ae470_row0_col2, #T_ae470_row1_col2, #T_ae470_row2_col2, #T_ae470_row3_col2, #T_ae470_row4_col2, #T_ae470_row5_col2, #T_ae470_row6_col2, #T_ae470_row7_col2, #T_ae470_row8_col2, #T_ae470_row9_col2, #T_ae470_row10_col2, #T_ae470_row11_col2 {\n",
       "  text-align: left;\n",
       "  font-size: 12px;\n",
       "  vertical-align: middle;\n",
       "  width: 30%;\n",
       "  min-width: 100px;\n",
       "}\n",
       "#T_ae470_row0_col3, #T_ae470_row1_col3, #T_ae470_row2_col3, #T_ae470_row3_col3, #T_ae470_row4_col3, #T_ae470_row5_col3, #T_ae470_row6_col3, #T_ae470_row7_col3, #T_ae470_row8_col3, #T_ae470_row9_col3, #T_ae470_row10_col3, #T_ae470_row11_col3 {\n",
       "  text-align: left;\n",
       "  font-size: 12px;\n",
       "  vertical-align: middle;\n",
       "  width: 25%;\n",
       "  min-width: 100px;\n",
       "}\n",
       "#T_ae470_row0_col4, #T_ae470_row1_col4, #T_ae470_row2_col4, #T_ae470_row3_col4, #T_ae470_row4_col4, #T_ae470_row5_col4, #T_ae470_row6_col4, #T_ae470_row7_col4, #T_ae470_row8_col4, #T_ae470_row9_col4, #T_ae470_row10_col4, #T_ae470_row11_col4 {\n",
       "  text-align: left;\n",
       "  font-size: 12px;\n",
       "  vertical-align: middle;\n",
       "  width: 20%;\n",
       "  min-width: 150px;\n",
       "}\n",
       "#T_ae470_row0_col5, #T_ae470_row1_col5, #T_ae470_row2_col5, #T_ae470_row3_col5, #T_ae470_row4_col5, #T_ae470_row5_col5, #T_ae470_row6_col5, #T_ae470_row7_col5, #T_ae470_row8_col5, #T_ae470_row9_col5, #T_ae470_row10_col5, #T_ae470_row11_col5 {\n",
       "  text-align: left;\n",
       "  font-size: 12px;\n",
       "  vertical-align: middle;\n",
       "  width: 10%;\n",
       "}\n",
       "</style>\n",
       "<table id=\"T_ae470\">\n",
       "  <caption><strong>Data Frame Summary</strong><br>data_churn<br>Dimensions: 10,000 x 12<br>Duplicates: 0</caption>\n",
       "  <thead>\n",
       "    <tr>\n",
       "      <th id=\"T_ae470_level0_col0\" class=\"col_heading level0 col0\" >No</th>\n",
       "      <th id=\"T_ae470_level0_col1\" class=\"col_heading level0 col1\" >Variable</th>\n",
       "      <th id=\"T_ae470_level0_col2\" class=\"col_heading level0 col2\" >Stats / Values</th>\n",
       "      <th id=\"T_ae470_level0_col3\" class=\"col_heading level0 col3\" >Freqs / (% of Valid)</th>\n",
       "      <th id=\"T_ae470_level0_col4\" class=\"col_heading level0 col4\" >Graph</th>\n",
       "      <th id=\"T_ae470_level0_col5\" class=\"col_heading level0 col5\" >Missing</th>\n",
       "    </tr>\n",
       "  </thead>\n",
       "  <tbody>\n",
       "    <tr>\n",
       "      <td id=\"T_ae470_row0_col0\" class=\"data row0 col0\" >1</td>\n",
       "      <td id=\"T_ae470_row0_col1\" class=\"data row0 col1\" ><strong>customer_id</strong><br>[int64]</td>\n",
       "      <td id=\"T_ae470_row0_col2\" class=\"data row0 col2\" >Mean (sd) : 15690940.6 (71936.2)<br>min < med < max:<br>15565701.0 < 15690738.0 < 15815690.0<br>IQR (CV) : 124705.5 (218.1)</td>\n",
       "      <td id=\"T_ae470_row0_col3\" class=\"data row0 col3\" >10,000 distinct values</td>\n",
       "      <td id=\"T_ae470_row0_col4\" class=\"data row0 col4\" ><img src = \"data:image/png;base64, iVBORw0KGgoAAAANSUhEUgAAAKoAAABGCAYAAABc8A97AAAAOXRFWHRTb2Z0d2FyZQBNYXRwbG90bGliIHZlcnNpb24zLjcuMCwgaHR0cHM6Ly9tYXRwbG90bGliLm9yZy88F64QAAAACXBIWXMAAA9hAAAPYQGoP6dpAAACj0lEQVR4nO3YvU/bQBjH8ecSCJeX2spLw+alI1IHS1mydOvYP7ZrtyKB1JmhSycWhGQFR3FBMWk6sULOR0h/1fezwuM7yd87I9x2uzXgX9c69AaAXRwdegP74pzrmlkn4hHr7XZ7/1r7QZz/MlTnXHc8Hn9JkmTY9BnL5XLhnPtKrLuLvByevRj2Guor3GotM/vTYC4ZDAbT+Xy+TNP0IXS4LEt/fn4+LYpi4pxbNli/6b5jZ80ivgSR78uPRqPPaZr2mwy/dDG8GGrE5qM2vtlsjquq+jAYDH61Wq06ZLaua7/ZbM5OTk6+T6fT36FrV1V1XNf1xyzL2u12Oyj0mH3HzD65u7tbOee+mVnoAY16X3VdezM7m81mPyaTSdDhLsvSX1xcDIui6JhZeKgxn9CYjZuZXV9fD6+urt7nef7z9PR00WC29/j42A5d18xsvV4fee97eZ4/NFw7Zt+NZs3Mbm5u3l1eXn7KsmwSesBe6X31vPd1k8vBzLrP/fClG7WTJMlwPp/fh35CYze+WCy6Zmb9fv8hdP5pNlbM2m89+zQfecCi39e+7PQ3apqmB4sF4Q55uPeF/6NCAqFCAqFCAqFCAqFCAqFCAqFCAqFCAqFCAqFCAqFCAqFCAqFCAqFCAqFCAqFCAqFCAqFCAqFCAqFCAqFCAqFCAqFCAqFCAqFCAqFCAqFCAqFCAqFCAqFCAqFCAqFCAqFCAqFCAqFCAqFCAqFCAqFCAqFCAqFCAqFCAqFCAqFCAqFCAqFCAqFCAqFCAqFCAqFCAqFCAqFCAqFCAqFCAqFCAqFCAqFCAqFCAqFCAqFCAqFCwtEuv1SWpQ998Gq18mZmVVX529vb3lvOq66tuu/Y+V36+gu06z5/wVSueAAAAABJRU5ErkJggg==\"></img></td>\n",
       "      <td id=\"T_ae470_row0_col5\" class=\"data row0 col5\" >0<br>(0.0%)</td>\n",
       "    </tr>\n",
       "    <tr>\n",
       "      <td id=\"T_ae470_row1_col0\" class=\"data row1 col0\" >2</td>\n",
       "      <td id=\"T_ae470_row1_col1\" class=\"data row1 col1\" ><strong>credit_score</strong><br>[int64]</td>\n",
       "      <td id=\"T_ae470_row1_col2\" class=\"data row1 col2\" >Mean (sd) : 650.5 (96.7)<br>min < med < max:<br>350.0 < 652.0 < 850.0<br>IQR (CV) : 134.0 (6.7)</td>\n",
       "      <td id=\"T_ae470_row1_col3\" class=\"data row1 col3\" >460 distinct values</td>\n",
       "      <td id=\"T_ae470_row1_col4\" class=\"data row1 col4\" ><img src = \"data:image/png;base64, iVBORw0KGgoAAAANSUhEUgAAAKoAAABGCAYAAABc8A97AAAAOXRFWHRTb2Z0d2FyZQBNYXRwbG90bGliIHZlcnNpb24zLjcuMCwgaHR0cHM6Ly9tYXRwbG90bGliLm9yZy88F64QAAAACXBIWXMAAA9hAAAPYQGoP6dpAAACkklEQVR4nO3cMY7aQBSA4TdhQQYkWwgJOi4QaQtKDpHD5ggpKFJzAzoEsoxw1sIYb5EUG2nDxp6ZZZ75v3oNU/zCa+vNmLquBQjdl3svAPgfT/deAP5mjBmKyMDiI851Xb+4Wk8oCDUgxpjhdDr9FsfxpO1nHI/H1BjzvWuxEmpYBnEcT1ar1UuSJEXTi7Msi9br9eRwOAxEhFBxm8XtO75er/0kSdLZbPar5dcPW14XNEJ1zOb2XZZlVFXV16IofohI21A7iVDda3373m63k81mM7pcLj1fi9OKUD1JkqRoevtO07STt20XeI8KFQgVKhAqVCBUqECoUIFQoQKhQgVChQq88O+Yqqr6IhIbY9pcHuyIIKF2SJ7n/bIsnxeLRa/X6zWevgp5RJBQO+R8Pj9FUTRaLpfFfD5Pm1wb+oggof6D7aie6/U0MR6PG88Z/BHsrAGhvoNRvfAQ6vsY1QsMod7AqF44eI8KFQgVKhAqVCBUqECoUIFQoQKhQgVChQqEChUIFSoQKlQgVKjQ2aEUy5Ob7z5Teg+W21hEPG5l6WSotic3P+JMqe02FhG/W1k6GapYntz8iDOlNttYRPxvZelqqCLSbp5U5LFnSi22sYh43MrCwxRUIFSoQKhQgVChAqFCBUKFCoQKFTr9HhWfy+dJgoQKJ3yfJEiocML3SYKECqd8nSTIwxRUIFSoQKhQIej/UTWf+gy3gg2VU5/xVrChCqc+442QQxURTn3GbzxMQQVChQqEChUIFSoQKlTw+tTPsTpwxVuoHKsDl3z+onKsDpzx/sKfY3XgAg9TUOHDX1QmmBCCm6G6mGDa7/c/2yzsdDpFIiJ5nke73W70Wdfe87u1rtv2+izLoo/+5hUeHIwMNeBfZAAAAABJRU5ErkJggg==\"></img></td>\n",
       "      <td id=\"T_ae470_row1_col5\" class=\"data row1 col5\" >0<br>(0.0%)</td>\n",
       "    </tr>\n",
       "    <tr>\n",
       "      <td id=\"T_ae470_row2_col0\" class=\"data row2 col0\" >3</td>\n",
       "      <td id=\"T_ae470_row2_col1\" class=\"data row2 col1\" ><strong>country</strong><br>[object]</td>\n",
       "      <td id=\"T_ae470_row2_col2\" class=\"data row2 col2\" >1. France<br>2. Germany<br>3. Spain</td>\n",
       "      <td id=\"T_ae470_row2_col3\" class=\"data row2 col3\" >5,014 (50.1%)<br>2,509 (25.1%)<br>2,477 (24.8%)</td>\n",
       "      <td id=\"T_ae470_row2_col4\" class=\"data row2 col4\" ><img src = \"data:image/png;base64, iVBORw0KGgoAAAANSUhEUgAAAJsAAABFCAYAAABdVZTTAAAAOXRFWHRTb2Z0d2FyZQBNYXRwbG90bGliIHZlcnNpb24zLjcuMCwgaHR0cHM6Ly9tYXRwbG90bGliLm9yZy88F64QAAAACXBIWXMAAA9hAAAPYQGoP6dpAAABmElEQVR4nO3b3YnbUBSF0aMghsyLhDG4GBeRYlOEujHG9yEzzIvykAbmj60rZa0KDubDRsJ7WNe1IOHH1gfw/xiq6rmqnrY+ZIfe1nV92fqIPRnP5/OvaZpOWx+yN621+zAMvwX3fuM0Tafr9foyz/Pr1sfsxePx+Lksy+l2uz1Vldjeaayqmuf59XK5/Nn6mJ153vqAvfGAQIzYiBEbMWIjRmzEiI0YsREjNmLERozYiBEbMWIjRmzEiI2Yserf/7O2PmRPfF6fM7bW7suynMr/sz6ktXavqret79gTG4TPs0H4oMGUj5Tev9l8exxI1+sqC6Zj6XZdZcF0PL2vqzwhH4iXusSIjRixESM2YsRGjNiIERsxYiNGbMSIjRixESM2YsRGjNiI6XZd1eNNfE3X6yoLpmOxQSDGuooYDwjE9Pwz6if0YLqd8pnxHU+XUz4zvmPqecrX3asYvsYDAjFiI0ZsxIiNGLERIzZixEaM2IgRGzFiI0ZsxIiNGLERIzZiupzy9XYP36PbKZ8Z3/HYIBBjykfMX0q8o0qM0LSXAAAAAElFTkSuQmCC\"></img></td>\n",
       "      <td id=\"T_ae470_row2_col5\" class=\"data row2 col5\" >0<br>(0.0%)</td>\n",
       "    </tr>\n",
       "    <tr>\n",
       "      <td id=\"T_ae470_row3_col0\" class=\"data row3 col0\" >4</td>\n",
       "      <td id=\"T_ae470_row3_col1\" class=\"data row3 col1\" ><strong>gender</strong><br>[object]</td>\n",
       "      <td id=\"T_ae470_row3_col2\" class=\"data row3 col2\" >1. Male<br>2. Female</td>\n",
       "      <td id=\"T_ae470_row3_col3\" class=\"data row3 col3\" >5,457 (54.6%)<br>4,543 (45.4%)</td>\n",
       "      <td id=\"T_ae470_row3_col4\" class=\"data row3 col4\" ><img src = \"data:image/png;base64, iVBORw0KGgoAAAANSUhEUgAAAJsAAAAuCAYAAAA/ZmtKAAAAOXRFWHRTb2Z0d2FyZQBNYXRwbG90bGliIHZlcnNpb24zLjcuMCwgaHR0cHM6Ly9tYXRwbG90bGliLm9yZy88F64QAAAACXBIWXMAAA9hAAAPYQGoP6dpAAABO0lEQVR4nO3bQWrDMBRF0a8iQjORMAYvxovoYrsI7cYYa9CETNRBJy1YM/nJuPes4GMuhgQ/V0oxQMGZ2d3Mbr0PuZhXKeXR+4iz8eM4foQQht6HXEnOeXXOfRLcXz6EMMzz/IgxPnsfcwXbtr2nlIZlWW5mRmy/eDOzGONzmqav3sdcyL33AWf01vsA/B/EBhligwyxQYbYIENskCE2yBAbZIgNMsQGGWKDDLFBhtggQ2yQITbIeLOfD/56H3IVPMs6n3NeU0qD8cFfMznn1cxeve84GwYvx2DwssMx5YMKb7Y63k6NMeWrYI7XHlO+HczxjsGUr45f543xpy5kiA0yxAYZYoMMsUGG2CBDbJAhNsgQG2SIDTLEBhligwyxQYbYIENskGHKt4PncQymfBXM8dpj8FLH4KWxbwpbat/D6U2YAAAAAElFTkSuQmCC\"></img></td>\n",
       "      <td id=\"T_ae470_row3_col5\" class=\"data row3 col5\" >0<br>(0.0%)</td>\n",
       "    </tr>\n",
       "    <tr>\n",
       "      <td id=\"T_ae470_row4_col0\" class=\"data row4 col0\" >5</td>\n",
       "      <td id=\"T_ae470_row4_col1\" class=\"data row4 col1\" ><strong>age</strong><br>[int64]</td>\n",
       "      <td id=\"T_ae470_row4_col2\" class=\"data row4 col2\" >Mean (sd) : 38.9 (10.5)<br>min < med < max:<br>18.0 < 37.0 < 92.0<br>IQR (CV) : 12.0 (3.7)</td>\n",
       "      <td id=\"T_ae470_row4_col3\" class=\"data row4 col3\" >70 distinct values</td>\n",
       "      <td id=\"T_ae470_row4_col4\" class=\"data row4 col4\" ><img src = \"data:image/png;base64, iVBORw0KGgoAAAANSUhEUgAAAKoAAABGCAYAAABc8A97AAAAOXRFWHRTb2Z0d2FyZQBNYXRwbG90bGliIHZlcnNpb24zLjcuMCwgaHR0cHM6Ly9tYXRwbG90bGliLm9yZy88F64QAAAACXBIWXMAAA9hAAAPYQGoP6dpAAACmElEQVR4nO3cMY7aQBSA4TdhIQYiG0QCHS1FpBSUHCKHzRGCREvDDeiQDDKC4MUYp0oqloWxvcwz/9cPO8W/XgZ2nsmyTADXfXr0BoBbvDx6A9cYY5oi0rBcfsyy7FDkfvA4zoZqjGn2er2fvu93bdZvt9uNMeYXsVaDs6GKSMP3/e5kMjkEQRDfszCKIm82m3XDMGyICKFWgMuhiohIEARxv9//Y7G0Wfhm8DAcpqACoUIFQoUKhAoVCBUqECpUIFSoQKhQgVChAqFCBUKFCoQKFQgVKhAqVCBUqECoUIFQoQKhQgVChQqEChUIFSoQKlQgVKhQ6r3+nCN5/PP5XC9yP9CrtFDzjuRJksRL0/R7HMe/RcRmAAUqpMwnqvVIHhGR5XLZXSwWrdPpVCtjc9Cl9JE+tiN5NpsNI3nwH4cpqECoUMH5aX620jSti4hvjLF9CQYBO6SSoe73+3qSJD+Gw2GtVqvdfZATYRCwayoZ6vF4fPE8rzUej+PBYLC5dz2DgN1TyVD/abfbtkOARRgE7BQOU1CBUKECoUIFQoUKhAoVCBUqECpUIFSoQKhQgVChAqFCBUKFCoQKFQgVKhAqVKj0/6PmkfMqC9dYCkaoF+S9ysI1luIR6gV5rrJwjaUchHpFjqssXGMp2Luh5hh0xpAzFOZqqHkGnT3zkDMOYsV774lqPejsWYeccRArx03vUW0GnT3rkDMOYuXgMFUSDmLF4pspqECoUIE//Y5hCuFlhOoQphC+jVAdUsQUwul02g/D8KsxZmuzBVcDJ1QH2X5iUOXPcG8KNYoi794X3u12nojIfr/3VqtV6yPXa/3Zefe9Xq+/eJ7XGo1GptPpvN6z9nA4fJ7P599yPI3zes2y7M1frr/IW2BxTUHecwAAAABJRU5ErkJggg==\"></img></td>\n",
       "      <td id=\"T_ae470_row4_col5\" class=\"data row4 col5\" >0<br>(0.0%)</td>\n",
       "    </tr>\n",
       "    <tr>\n",
       "      <td id=\"T_ae470_row5_col0\" class=\"data row5 col0\" >6</td>\n",
       "      <td id=\"T_ae470_row5_col1\" class=\"data row5 col1\" ><strong>tenure</strong><br>[int64]</td>\n",
       "      <td id=\"T_ae470_row5_col2\" class=\"data row5 col2\" >Mean (sd) : 5.0 (2.9)<br>min < med < max:<br>0.0 < 5.0 < 10.0<br>IQR (CV) : 4.0 (1.7)</td>\n",
       "      <td id=\"T_ae470_row5_col3\" class=\"data row5 col3\" >11 distinct values</td>\n",
       "      <td id=\"T_ae470_row5_col4\" class=\"data row5 col4\" ><img src = \"data:image/png;base64, iVBORw0KGgoAAAANSUhEUgAAAKoAAABGCAYAAABc8A97AAAAOXRFWHRTb2Z0d2FyZQBNYXRwbG90bGliIHZlcnNpb24zLjcuMCwgaHR0cHM6Ly9tYXRwbG90bGliLm9yZy88F64QAAAACXBIWXMAAA9hAAAPYQGoP6dpAAAC3ElEQVR4nO3cv08aYRzH8e8D/jiE3gWluLF0NOlA4sLSrWP/2K7dNNGks0OXTi7GhJxHuEo4gQ6tiYvAPY8nfvD9WsnXu+Cbh0B4HrdYLAx462qbvgFgHTubvgFsD+dcw8z2PMeni8Xi/rkHCRUvwjnXODo6+hbHcdtnfjQapc6578/FSqh4KXtxHLcHg8F9kiSTMoNZlkUXFxft4XC4Z2aEiuolSTLpdrt/PEYbyx7kwxQkECokECokECokECokECokECokECokECokECokECokECokECokECokECokECokVPrD6cA9NGb/Xkhzz9mle3CgpbJQQ/fQzGaz3TzPP7Vard+1Wq0oO393dzd2zv0ws1LbIp7wDr3KTW4VXztkYYjn8/mu5+xKVa6o3ntozMyur6/bV1dXH/v9/q/j4+O0zOzNzc2Hy8vLL71er1Ov171CDQg9Ojw8/JokSdPnuqs2uS0TsjiELgxFUUSz2exkMpmcmZnPVpSlKt8z5buHJk3ThplZs9ksPZ+maSOKooN+vz8pG7lZWOhFUURmdnJ6evqz0+mMysxmWRadn593h8NhxzlXava/uNVqdQeDwajs4hCyMDyZP3h4eKiXnV3HVm/u84ncLCz0x39YFEVF2Wvneb5bFMXnXq9X93kneFzV9vf3z3xe3GZhz1nZmTK2OtRQvqu57/Wm0+lOyDtB1avaJhHqG/RWV7VN4ntUSCBUSCBUSCBUSCBUSCBUSCBUSCBUSCBUSCBUSCBUSCBUSCBUSCBUSCBUSCBUSCBUSCBUSCBUSCBUSCBUSFi5CzXgiJhKj3jB+7I01JAjYqo+4gXvy6oV1fv8qG0+DAGvb60DKHzOj9rmwxDw+vgwBQmECgmECgmECgmECgmECgmECgmECgmECgmECgmECgmECgmECgmECgmECglr/R41y7Ko7B8ej8eRmVme59Ht7e3Ba86rXlv1vkPn1+nrLxTKXhzm/oaoAAAAAElFTkSuQmCC\"></img></td>\n",
       "      <td id=\"T_ae470_row5_col5\" class=\"data row5 col5\" >0<br>(0.0%)</td>\n",
       "    </tr>\n",
       "    <tr>\n",
       "      <td id=\"T_ae470_row6_col0\" class=\"data row6 col0\" >7</td>\n",
       "      <td id=\"T_ae470_row6_col1\" class=\"data row6 col1\" ><strong>balance</strong><br>[float64]</td>\n",
       "      <td id=\"T_ae470_row6_col2\" class=\"data row6 col2\" >Mean (sd) : 76485.9 (62397.4)<br>min < med < max:<br>0.0 < 97198.5 < 250898.1<br>IQR (CV) : 127644.2 (1.2)</td>\n",
       "      <td id=\"T_ae470_row6_col3\" class=\"data row6 col3\" >6,382 distinct values</td>\n",
       "      <td id=\"T_ae470_row6_col4\" class=\"data row6 col4\" ><img src = \"data:image/png;base64, iVBORw0KGgoAAAANSUhEUgAAAKoAAABGCAYAAABc8A97AAAAOXRFWHRTb2Z0d2FyZQBNYXRwbG90bGliIHZlcnNpb24zLjcuMCwgaHR0cHM6Ly9tYXRwbG90bGliLm9yZy88F64QAAAACXBIWXMAAA9hAAAPYQGoP6dpAAACnUlEQVR4nO3csY7aMBjA8c/lQAHURIgKNl6gUgdGHqIP27VbkRg68wYsCBFBECkpIaRTq0rlDhLDnT/3/5vPUYY/IPtsm7IsBXDdu7d+AeAWT9f+wBjTFpFWzecfy7I81BwL/PFiqMaYdr/f/xyGYa/Ow3e73cYY84VYYevaN2orDMPeZDI5RFGUVXlwkiTBbDbrxXHcEhFChZWrP/0iIlEUZYPB4EeN57drjAH+wWQKKhAqVCBUqECoUIFQoQKhQgVChQqEChUIFSoQKlQgVKhAqFCBUKECoUIFQoUKhAoVCBUqECpUIFSoQKhQgVChAqFCBUKFCoQKFQgVKtx0U8r/iMvh3EKoF3A5nHsI9TIuh3MMob6Ay+HcwWQKKhAqVOCn/wGKomiKSGiMqTOcFYMLCPXO0jRt5nn+aTQaNRqNRqWJmAgrBs8h1Ds7Ho9PQRB0xuNxNhwON1XGsmLwPEJ9kG63y4rBHTGZggqEChUIFSoQKlQgVKhAqFDB2+Upy/2k4fl8bt7zfWDHy1Bt95PmeR4URfExy7JvIlJnLRR35mWoYrGfVERksVj05vN553Q6NR7xcqjO11BFpP5+0s1mw3+HHMNkCioQKlQgVKhAqFCBUKGC17N+jSyPsYh4epSFUB1ie4xFxN+jLITqEJtjLCJ+H2UhVAdZHGMR8fQoC5MpqECoUMHpn36LrXps0/OMs6HabNVjm55/nA1VLLbqsU3PPy6HKiL1tuqxTc8/zoeKany9oI1QPeLzBW0PDdXy083MvSLbC9qm0+kgjuMPxphd3Vd4VOQ3hZokSVD1wcvl8r3Np/v3zH29Xn+vOna/3wciImmaBqvVqvOa499q7N/j6zgcDtb7DLbb7d4Y81VE6oz/WZbls+N+AZbQSdcvf8XFAAAAAElFTkSuQmCC\"></img></td>\n",
       "      <td id=\"T_ae470_row6_col5\" class=\"data row6 col5\" >0<br>(0.0%)</td>\n",
       "    </tr>\n",
       "    <tr>\n",
       "      <td id=\"T_ae470_row7_col0\" class=\"data row7 col0\" >8</td>\n",
       "      <td id=\"T_ae470_row7_col1\" class=\"data row7 col1\" ><strong>products_number</strong><br>[int64]</td>\n",
       "      <td id=\"T_ae470_row7_col2\" class=\"data row7 col2\" >Mean (sd) : 1.5 (0.6)<br>min < med < max:<br>1.0 < 1.0 < 4.0<br>IQR (CV) : 1.0 (2.6)</td>\n",
       "      <td id=\"T_ae470_row7_col3\" class=\"data row7 col3\" >4 distinct values</td>\n",
       "      <td id=\"T_ae470_row7_col4\" class=\"data row7 col4\" ><img src = \"data:image/png;base64, iVBORw0KGgoAAAANSUhEUgAAAKoAAABGCAYAAABc8A97AAAAOXRFWHRTb2Z0d2FyZQBNYXRwbG90bGliIHZlcnNpb24zLjcuMCwgaHR0cHM6Ly9tYXRwbG90bGliLm9yZy88F64QAAAACXBIWXMAAA9hAAAPYQGoP6dpAAAB70lEQVR4nO3YwWrCQBRG4XuLhATKDDHgw2TfrQ/bh8jbBJksqghmuiuUQtVMqfnlfGtnHOSQMddzzgas3cujDwDcYnPtA+7emFm1cP9zzvm4cC3w5ddQ3b3pum4fQmiXbD5N08Hd34kVpa49UasQQtv3/THGeLpn45RSPQxDO45jZWaEiiJXr34zsxjjabfbfSzYv1mwBviBlylIIFRIIFRIuOk/qqLCsZoZo7VVecpQS8dqZozW1uYpQ7WCsZoZo7U1etZQzaxorGbGaG1VeJmCBEKFBEKFBEKFBEKFBEKFBEKFBEKFBEKFBEKFBEKFBEKFBEKFBEKFBEKFBEKFBEKFBEKFBEKFBEKFBEKFBEKFBEKFBEKFBEKFBEKFBEKFBEKFBEKFBEKFBEKFBEKFBEKFBEKFBEKFBEKFBEKFBEKFBEKFBEKFBEKFBEKFBEKFBEKFBEKFBEKFBEKFBEKFBEKFBEKFBEKFBEKFBEKFhM2jD4Dv3L0xs6pgi3PO+fhX51kLQl0Rd2+6rtuHENqle0zTdHD392eLlVDXpQohtH3fH2OMp3sXp5TqYRjacRwrM/v3UAtvg19vgptCTSnV935rSqm+XC4bMwvufu/yUmGe582Sc5s99Oxhnueih8cDf/N6u92+xRhflyy+dhN8AuJ8gBpKNJwXAAAAAElFTkSuQmCC\"></img></td>\n",
       "      <td id=\"T_ae470_row7_col5\" class=\"data row7 col5\" >0<br>(0.0%)</td>\n",
       "    </tr>\n",
       "    <tr>\n",
       "      <td id=\"T_ae470_row8_col0\" class=\"data row8 col0\" >9</td>\n",
       "      <td id=\"T_ae470_row8_col1\" class=\"data row8 col1\" ><strong>credit_card</strong><br>[int64]</td>\n",
       "      <td id=\"T_ae470_row8_col2\" class=\"data row8 col2\" >Mean (sd) : 0.7 (0.5)<br>min < med < max:<br>0.0 < 1.0 < 1.0<br>IQR (CV) : 1.0 (1.5)</td>\n",
       "      <td id=\"T_ae470_row8_col3\" class=\"data row8 col3\" >2 distinct values</td>\n",
       "      <td id=\"T_ae470_row8_col4\" class=\"data row8 col4\" ><img src = \"data:image/png;base64, iVBORw0KGgoAAAANSUhEUgAAAKoAAABGCAYAAABc8A97AAAAOXRFWHRTb2Z0d2FyZQBNYXRwbG90bGliIHZlcnNpb24zLjcuMCwgaHR0cHM6Ly9tYXRwbG90bGliLm9yZy88F64QAAAACXBIWXMAAA9hAAAPYQGoP6dpAAABfElEQVR4nO3dQWrCQBiG4ZkiopsEETyMh+hhewhvI2VcVCloegJrFIP9yvNskwmzeAnMZv46DEOBv+7t1RuAMWav3gD/R611WUqZP7j8exiG47WHQuUpaq3L9Xr93nXd6pH1h8Phs9b6cS1WofIs867rVtvt9tj3/emeha21xW63W+33+3kpRahMr+/702az+Xpg6fK3hw5TRBAqEYRKBKESQahEECoRhEoEoRJBqEQQKhGESgShEkGoRBAqEYRKBKESQahEECoRhEoEoRJBqEQQKhGESgShEkGoRBAqEYRKBKESQahEECoRhEoEoRJBqEQQKhGESoSbd/hPOZIFxvo11KlHssBYt/6ok45kgbFGje+ZaiQLjOUwRQShEkGoRBAqEYRKBKESQahEECoRhEoEoRJBqEQQKhGESgShEkGoRBAqEYRKBKESQahEECoRhEoEoRJBqEQQKhFGXUDRWlvc++HW2uJ8Ps9KKV2t9e6NEae7XC6zR1u59c4PV25OfV6j3BsAAAAASUVORK5CYII=\"></img></td>\n",
       "      <td id=\"T_ae470_row8_col5\" class=\"data row8 col5\" >0<br>(0.0%)</td>\n",
       "    </tr>\n",
       "    <tr>\n",
       "      <td id=\"T_ae470_row9_col0\" class=\"data row9 col0\" >10</td>\n",
       "      <td id=\"T_ae470_row9_col1\" class=\"data row9 col1\" ><strong>active_member</strong><br>[int64]</td>\n",
       "      <td id=\"T_ae470_row9_col2\" class=\"data row9 col2\" >Mean (sd) : 0.5 (0.5)<br>min < med < max:<br>0.0 < 1.0 < 1.0<br>IQR (CV) : 1.0 (1.0)</td>\n",
       "      <td id=\"T_ae470_row9_col3\" class=\"data row9 col3\" >2 distinct values</td>\n",
       "      <td id=\"T_ae470_row9_col4\" class=\"data row9 col4\" ><img src = \"data:image/png;base64, iVBORw0KGgoAAAANSUhEUgAAAKoAAABGCAYAAABc8A97AAAAOXRFWHRTb2Z0d2FyZQBNYXRwbG90bGliIHZlcnNpb24zLjcuMCwgaHR0cHM6Ly9tYXRwbG90bGliLm9yZy88F64QAAAACXBIWXMAAA9hAAAPYQGoP6dpAAABd0lEQVR4nO3YUWrCQBSG0Zkioi8JIrgYF9HFdhHuRsr4UKWg6QqsUQz2L+e8Tm6Yh49wSR2GocBf9/bqC8AYs1dfgP+j1rospcwfHP8ehuF47VCoPEWtdbler9+7rls9Mn84HD5rrR/XYhUqzzLvum613W6Pfd+f7hlsrS12u91qv9/PSylCZXp93582m83XA6PL3w5vhjrl3gFj/Rrq1HsHjHXrizrp3gFjjdpRp9o7YCw//IkgVCIIlQhCJYJQiSBUIgiVCEIlglCJIFQiCJUIQiWCUIkgVCIIlQhCJYJQiSBUIgiVCEIlglCJIFQiCJUIQiWCUIkgVCIIlQhCJYJQiSBUIgiVCEIlglCJIFQiCJUIQiWCUIkgVCIIlQhCJYJQiSBUIgiVCEIlglCJIFQiCJUIQiWCUIkgVCIIlQhCJYJQiSBUIgiVCEIlglCJIFQiCJUIszEPtdYW9764tbY4n8+zUkpXa737YsTpLpfL7NFWbj3zA3ZpTn1E5+K/AAAAAElFTkSuQmCC\"></img></td>\n",
       "      <td id=\"T_ae470_row9_col5\" class=\"data row9 col5\" >0<br>(0.0%)</td>\n",
       "    </tr>\n",
       "    <tr>\n",
       "      <td id=\"T_ae470_row10_col0\" class=\"data row10 col0\" >11</td>\n",
       "      <td id=\"T_ae470_row10_col1\" class=\"data row10 col1\" ><strong>estimated_salary</strong><br>[float64]</td>\n",
       "      <td id=\"T_ae470_row10_col2\" class=\"data row10 col2\" >Mean (sd) : 100090.2 (57510.5)<br>min < med < max:<br>11.6 < 100193.9 < 199992.5<br>IQR (CV) : 98386.1 (1.7)</td>\n",
       "      <td id=\"T_ae470_row10_col3\" class=\"data row10 col3\" >9,999 distinct values</td>\n",
       "      <td id=\"T_ae470_row10_col4\" class=\"data row10 col4\" ><img src = \"data:image/png;base64, iVBORw0KGgoAAAANSUhEUgAAAKoAAABGCAYAAABc8A97AAAAOXRFWHRTb2Z0d2FyZQBNYXRwbG90bGliIHZlcnNpb24zLjcuMCwgaHR0cHM6Ly9tYXRwbG90bGliLm9yZy88F64QAAAACXBIWXMAAA9hAAAPYQGoP6dpAAACdUlEQVR4nO3YvW7aUByG8f8pFA6Q2uJDZOMGInWIlMVLt4692K7digRSZ+6ABSFZxAgahIPoUrYqxD4Kzkuf34z9WsrjQxJ3PB4NeO8+VP0AwGvUq36At+Kca5lZI+AW++Px+FTBdunda3aVoTrnWv1+/1sURd2y91iv1yvn3Pei0YRul929du861ICTKbq5uRkmSbKO43hX9OIsy/x4PB6maTpwzq0vtR24e1LVN0HQ9jlnQ63qayzkZMrz3B8Oh7tms/lzOBz+Lnr9drv9mOf559FoVKvVaoViC9kO2T15fHzcOOd+mFnR632v1/sax3GnzG7gttmZVl4MNfRrLPDBS59M8/m8O5vN2s/Pz7USu7bf7+ve+/b9/f3u9vZ2dantkF0zs8Vi8Wk6nX4ZjUaDMi+Ymd09PDz8GgwGhU/zkG2z87/ynDtRG1EUdZMkeSoaS+iDh5xMq9WqVXTvXzqdzq6K7TK7p+3QF8x7n196O8syP5lMummaNsysVKhmZhbHcakfWMjpEHoq/s+qesHKbv/14v6b/zEVcjq8xfNAE//whwRChQRChQRChQRChQRChQRChQRChQRChQRChQRChQRChQRChQRChQRChQRChQRChQRChQRChQRChQRChQRChQRChQRChQRChQRChQRChQRChQRChQRChQRChQRChQRChQRChQRChQRChQRChQRChQRChQRChQRChQRChQRChQRChQRChQRChQRChQRChQRChQRChQRChQRChQRChQRChQRChQRChQRChQRChQRChYT6az6UZZkveuPNZuPNzLbbrV8ul+1LXq+6rfrcode/pq8/KGphHa+0qpEAAAAASUVORK5CYII=\"></img></td>\n",
       "      <td id=\"T_ae470_row10_col5\" class=\"data row10 col5\" >0<br>(0.0%)</td>\n",
       "    </tr>\n",
       "    <tr>\n",
       "      <td id=\"T_ae470_row11_col0\" class=\"data row11 col0\" >12</td>\n",
       "      <td id=\"T_ae470_row11_col1\" class=\"data row11 col1\" ><strong>churn</strong><br>[int64]</td>\n",
       "      <td id=\"T_ae470_row11_col2\" class=\"data row11 col2\" >Mean (sd) : 0.2 (0.4)<br>min < med < max:<br>0.0 < 0.0 < 1.0<br>IQR (CV) : 0.0 (0.5)</td>\n",
       "      <td id=\"T_ae470_row11_col3\" class=\"data row11 col3\" >2 distinct values</td>\n",
       "      <td id=\"T_ae470_row11_col4\" class=\"data row11 col4\" ><img src = \"data:image/png;base64, iVBORw0KGgoAAAANSUhEUgAAAKoAAABGCAYAAABc8A97AAAAOXRFWHRTb2Z0d2FyZQBNYXRwbG90bGliIHZlcnNpb24zLjcuMCwgaHR0cHM6Ly9tYXRwbG90bGliLm9yZy88F64QAAAACXBIWXMAAA9hAAAPYQGoP6dpAAABtklEQVR4nO3dQYqDQBBG4aohSNx0I4KH8RA5bA7hbSS0iyiBpGc3m2GidjLM/PC+rVbh4qEIgp5zNuC/+/jrCwC2OKyd4O61mVWF+28557lwFvjyNFR3r9u2PYUQmpLl0zRd3P1MrHjV2h21CiE0fd/PMcZlz+KU0nEYhmYcx8rMCBUvWX30m5nFGJeu664F++uCGeAbXqYggVAhgVAhgVAhgVAhgVAhgVAhgVAhgVAhgVAhgVAhgVAhgVAhgVAhgVAhgVAhgVAhgVAhgVAhgVAhgVAhgVAhgVAhgVAhgVAhgVAhgVAhgVAhgVAhgVAhgVAhgVAhgVAhgVAhgVAhgVAhgVAhgVAhgVAhgVAhgVAhgVAhgVAhgVAhgVAhgVAhYdNv0IEt3L02s6pw/JZznn86SKh4C3ev27Y9hRCakvlpmi7ufv4pVkLFu1QhhKbv+znGuOwZTCkdh2FoxnGszIxQ8ftijEvXddeC0frZQV6mIIFQIYFQIYFQIYFQIYFQIYFQIYFQIYFQIYFQIYFQIYFQIYFQIWHT11MppePexSml4/1+P5hZcPfdFwY54fF4HEpbWTvnE+dCTn21JaLfAAAAAElFTkSuQmCC\"></img></td>\n",
       "      <td id=\"T_ae470_row11_col5\" class=\"data row11 col5\" >0<br>(0.0%)</td>\n",
       "    </tr>\n",
       "  </tbody>\n",
       "</table>\n"
      ],
      "text/plain": [
       "<pandas.io.formats.style.Styler at 0x27209948c10>"
      ]
     },
     "execution_count": 7,
     "metadata": {},
     "output_type": "execute_result"
    }
   ],
   "source": [
    "dfSummary(data_churn)"
   ]
  },
  {
   "cell_type": "markdown",
   "id": "56ed2bd9",
   "metadata": {},
   "source": [
    "### Results:\n",
    "- count of columns: 12\n",
    "- count of rows:  10000\n",
    "- duplicates: No\n",
    "- The dataset does not include any null or missing values so there won't be any need for data wrangling (dealing with missing values).\n",
    "- The data type of  country and gender variables are categorical, therefore we first convert them to number using the on-hot encoding technique."
   ]
  },
  {
   "cell_type": "markdown",
   "id": "1d61a5f6",
   "metadata": {},
   "source": [
    "# Step 4: Data Preprocessing (Part 1)"
   ]
  },
  {
   "cell_type": "markdown",
   "id": "de211136",
   "metadata": {},
   "source": [
    "### 🟣 A: Remove unnecessary and irrelevant columns"
   ]
  },
  {
   "cell_type": "code",
   "execution_count": 8,
   "id": "e1c7330e",
   "metadata": {},
   "outputs": [
    {
     "data": {
      "text/html": [
       "<div>\n",
       "<style scoped>\n",
       "    .dataframe tbody tr th:only-of-type {\n",
       "        vertical-align: middle;\n",
       "    }\n",
       "\n",
       "    .dataframe tbody tr th {\n",
       "        vertical-align: top;\n",
       "    }\n",
       "\n",
       "    .dataframe thead th {\n",
       "        text-align: right;\n",
       "    }\n",
       "</style>\n",
       "<table border=\"1\" class=\"dataframe\">\n",
       "  <thead>\n",
       "    <tr style=\"text-align: right;\">\n",
       "      <th></th>\n",
       "      <th>credit_score</th>\n",
       "      <th>country</th>\n",
       "      <th>gender</th>\n",
       "      <th>age</th>\n",
       "      <th>tenure</th>\n",
       "      <th>balance</th>\n",
       "      <th>products_number</th>\n",
       "      <th>credit_card</th>\n",
       "      <th>active_member</th>\n",
       "      <th>estimated_salary</th>\n",
       "      <th>churn</th>\n",
       "    </tr>\n",
       "  </thead>\n",
       "  <tbody>\n",
       "    <tr>\n",
       "      <th>0</th>\n",
       "      <td>619</td>\n",
       "      <td>France</td>\n",
       "      <td>Female</td>\n",
       "      <td>42</td>\n",
       "      <td>2</td>\n",
       "      <td>0.00</td>\n",
       "      <td>1</td>\n",
       "      <td>1</td>\n",
       "      <td>1</td>\n",
       "      <td>101348.88</td>\n",
       "      <td>1</td>\n",
       "    </tr>\n",
       "    <tr>\n",
       "      <th>1</th>\n",
       "      <td>608</td>\n",
       "      <td>Spain</td>\n",
       "      <td>Female</td>\n",
       "      <td>41</td>\n",
       "      <td>1</td>\n",
       "      <td>83807.86</td>\n",
       "      <td>1</td>\n",
       "      <td>0</td>\n",
       "      <td>1</td>\n",
       "      <td>112542.58</td>\n",
       "      <td>0</td>\n",
       "    </tr>\n",
       "    <tr>\n",
       "      <th>2</th>\n",
       "      <td>502</td>\n",
       "      <td>France</td>\n",
       "      <td>Female</td>\n",
       "      <td>42</td>\n",
       "      <td>8</td>\n",
       "      <td>159660.80</td>\n",
       "      <td>3</td>\n",
       "      <td>1</td>\n",
       "      <td>0</td>\n",
       "      <td>113931.57</td>\n",
       "      <td>1</td>\n",
       "    </tr>\n",
       "    <tr>\n",
       "      <th>3</th>\n",
       "      <td>699</td>\n",
       "      <td>France</td>\n",
       "      <td>Female</td>\n",
       "      <td>39</td>\n",
       "      <td>1</td>\n",
       "      <td>0.00</td>\n",
       "      <td>2</td>\n",
       "      <td>0</td>\n",
       "      <td>0</td>\n",
       "      <td>93826.63</td>\n",
       "      <td>0</td>\n",
       "    </tr>\n",
       "    <tr>\n",
       "      <th>4</th>\n",
       "      <td>850</td>\n",
       "      <td>Spain</td>\n",
       "      <td>Female</td>\n",
       "      <td>43</td>\n",
       "      <td>2</td>\n",
       "      <td>125510.82</td>\n",
       "      <td>1</td>\n",
       "      <td>1</td>\n",
       "      <td>1</td>\n",
       "      <td>79084.10</td>\n",
       "      <td>0</td>\n",
       "    </tr>\n",
       "    <tr>\n",
       "      <th>...</th>\n",
       "      <td>...</td>\n",
       "      <td>...</td>\n",
       "      <td>...</td>\n",
       "      <td>...</td>\n",
       "      <td>...</td>\n",
       "      <td>...</td>\n",
       "      <td>...</td>\n",
       "      <td>...</td>\n",
       "      <td>...</td>\n",
       "      <td>...</td>\n",
       "      <td>...</td>\n",
       "    </tr>\n",
       "    <tr>\n",
       "      <th>9995</th>\n",
       "      <td>771</td>\n",
       "      <td>France</td>\n",
       "      <td>Male</td>\n",
       "      <td>39</td>\n",
       "      <td>5</td>\n",
       "      <td>0.00</td>\n",
       "      <td>2</td>\n",
       "      <td>1</td>\n",
       "      <td>0</td>\n",
       "      <td>96270.64</td>\n",
       "      <td>0</td>\n",
       "    </tr>\n",
       "    <tr>\n",
       "      <th>9996</th>\n",
       "      <td>516</td>\n",
       "      <td>France</td>\n",
       "      <td>Male</td>\n",
       "      <td>35</td>\n",
       "      <td>10</td>\n",
       "      <td>57369.61</td>\n",
       "      <td>1</td>\n",
       "      <td>1</td>\n",
       "      <td>1</td>\n",
       "      <td>101699.77</td>\n",
       "      <td>0</td>\n",
       "    </tr>\n",
       "    <tr>\n",
       "      <th>9997</th>\n",
       "      <td>709</td>\n",
       "      <td>France</td>\n",
       "      <td>Female</td>\n",
       "      <td>36</td>\n",
       "      <td>7</td>\n",
       "      <td>0.00</td>\n",
       "      <td>1</td>\n",
       "      <td>0</td>\n",
       "      <td>1</td>\n",
       "      <td>42085.58</td>\n",
       "      <td>1</td>\n",
       "    </tr>\n",
       "    <tr>\n",
       "      <th>9998</th>\n",
       "      <td>772</td>\n",
       "      <td>Germany</td>\n",
       "      <td>Male</td>\n",
       "      <td>42</td>\n",
       "      <td>3</td>\n",
       "      <td>75075.31</td>\n",
       "      <td>2</td>\n",
       "      <td>1</td>\n",
       "      <td>0</td>\n",
       "      <td>92888.52</td>\n",
       "      <td>1</td>\n",
       "    </tr>\n",
       "    <tr>\n",
       "      <th>9999</th>\n",
       "      <td>792</td>\n",
       "      <td>France</td>\n",
       "      <td>Female</td>\n",
       "      <td>28</td>\n",
       "      <td>4</td>\n",
       "      <td>130142.79</td>\n",
       "      <td>1</td>\n",
       "      <td>1</td>\n",
       "      <td>0</td>\n",
       "      <td>38190.78</td>\n",
       "      <td>0</td>\n",
       "    </tr>\n",
       "  </tbody>\n",
       "</table>\n",
       "<p>10000 rows × 11 columns</p>\n",
       "</div>"
      ],
      "text/plain": [
       "      credit_score  country  gender  age  tenure    balance  products_number  \\\n",
       "0              619   France  Female   42       2       0.00                1   \n",
       "1              608    Spain  Female   41       1   83807.86                1   \n",
       "2              502   France  Female   42       8  159660.80                3   \n",
       "3              699   France  Female   39       1       0.00                2   \n",
       "4              850    Spain  Female   43       2  125510.82                1   \n",
       "...            ...      ...     ...  ...     ...        ...              ...   \n",
       "9995           771   France    Male   39       5       0.00                2   \n",
       "9996           516   France    Male   35      10   57369.61                1   \n",
       "9997           709   France  Female   36       7       0.00                1   \n",
       "9998           772  Germany    Male   42       3   75075.31                2   \n",
       "9999           792   France  Female   28       4  130142.79                1   \n",
       "\n",
       "      credit_card  active_member  estimated_salary  churn  \n",
       "0               1              1         101348.88      1  \n",
       "1               0              1         112542.58      0  \n",
       "2               1              0         113931.57      1  \n",
       "3               0              0          93826.63      0  \n",
       "4               1              1          79084.10      0  \n",
       "...           ...            ...               ...    ...  \n",
       "9995            1              0          96270.64      0  \n",
       "9996            1              1         101699.77      0  \n",
       "9997            0              1          42085.58      1  \n",
       "9998            1              0          92888.52      1  \n",
       "9999            1              0          38190.78      0  \n",
       "\n",
       "[10000 rows x 11 columns]"
      ]
     },
     "execution_count": 8,
     "metadata": {},
     "output_type": "execute_result"
    }
   ],
   "source": [
    "data_churn.drop(['customer_id'], axis=1, inplace=True)\n",
    "data_churn"
   ]
  },
  {
   "cell_type": "markdown",
   "id": "b5f273a7",
   "metadata": {},
   "source": [
    "### 🟣 B: Check & Convert the data types if necessary"
   ]
  },
  {
   "cell_type": "code",
   "execution_count": 9,
   "id": "52f68200",
   "metadata": {},
   "outputs": [
    {
     "name": "stdout",
     "output_type": "stream",
     "text": [
      "<class 'pandas.core.frame.DataFrame'>\n",
      "RangeIndex: 10000 entries, 0 to 9999\n",
      "Data columns (total 11 columns):\n",
      " #   Column            Non-Null Count  Dtype  \n",
      "---  ------            --------------  -----  \n",
      " 0   credit_score      10000 non-null  int64  \n",
      " 1   country           10000 non-null  object \n",
      " 2   gender            10000 non-null  object \n",
      " 3   age               10000 non-null  int64  \n",
      " 4   tenure            10000 non-null  int64  \n",
      " 5   balance           10000 non-null  float64\n",
      " 6   products_number   10000 non-null  int64  \n",
      " 7   credit_card       10000 non-null  int64  \n",
      " 8   active_member     10000 non-null  int64  \n",
      " 9   estimated_salary  10000 non-null  float64\n",
      " 10  churn             10000 non-null  int64  \n",
      "dtypes: float64(2), int64(7), object(2)\n",
      "memory usage: 859.5+ KB\n"
     ]
    }
   ],
   "source": [
    "data_churn.info()"
   ]
  },
  {
   "cell_type": "markdown",
   "id": "02fbbfe6",
   "metadata": {},
   "source": [
    "#### Result:\n",
    "- No need to convert the data type and It 's OK.\n",
    "- It is better to specify that the data type of gender and country columns is categorical"
   ]
  },
  {
   "cell_type": "code",
   "execution_count": 10,
   "id": "6170fcfb",
   "metadata": {},
   "outputs": [
    {
     "name": "stdout",
     "output_type": "stream",
     "text": [
      "<class 'pandas.core.frame.DataFrame'>\n",
      "RangeIndex: 10000 entries, 0 to 9999\n",
      "Data columns (total 11 columns):\n",
      " #   Column            Non-Null Count  Dtype   \n",
      "---  ------            --------------  -----   \n",
      " 0   credit_score      10000 non-null  int64   \n",
      " 1   country           10000 non-null  category\n",
      " 2   gender            10000 non-null  category\n",
      " 3   age               10000 non-null  int64   \n",
      " 4   tenure            10000 non-null  int64   \n",
      " 5   balance           10000 non-null  float64 \n",
      " 6   products_number   10000 non-null  int64   \n",
      " 7   credit_card       10000 non-null  int64   \n",
      " 8   active_member     10000 non-null  int64   \n",
      " 9   estimated_salary  10000 non-null  float64 \n",
      " 10  churn             10000 non-null  int64   \n",
      "dtypes: category(2), float64(2), int64(7)\n",
      "memory usage: 723.0 KB\n"
     ]
    }
   ],
   "source": [
    "# Convert data type of gender and country variables from object to category \n",
    "data_churn[\"gender\"] = data_churn[\"gender\"].astype('category')\n",
    "data_churn[\"country\"] = data_churn[\"country\"].astype('category')\n",
    "data_churn.info()"
   ]
  },
  {
   "cell_type": "markdown",
   "id": "00caf535",
   "metadata": {},
   "source": [
    "- Result:  **It's ok!**"
   ]
  },
  {
   "cell_type": "markdown",
   "id": "29a3f918",
   "metadata": {},
   "source": [
    "### 🟣 C: Check & Remove duplicate records"
   ]
  },
  {
   "cell_type": "code",
   "execution_count": 11,
   "id": "ab11fe39",
   "metadata": {},
   "outputs": [
    {
     "name": "stdout",
     "output_type": "stream",
     "text": [
      "Result: No duplicate values!\n"
     ]
    }
   ],
   "source": [
    "if data_churn.duplicated().sum() == 0 :\n",
    "    print(\"Result: No duplicate values!\")\n",
    "else :\n",
    "    print(\"Result: Count of duplicate values befor dropping: \", data_churn.duplicated().sum())\n",
    "    data_churn = data_churn.drop_duplicates() #remove the duplicate values \n",
    "    print(\"Result: Count of duplicate values after dropping: \", data_churn.duplicated().sum())"
   ]
  },
  {
   "cell_type": "markdown",
   "id": "3346910a",
   "metadata": {},
   "source": [
    "### 🟣 D: Handling outliers"
   ]
  },
  {
   "cell_type": "markdown",
   "id": "7f120fb7",
   "metadata": {},
   "source": [
    "**boxplot:**"
   ]
  },
  {
   "cell_type": "markdown",
   "id": "a4a8f4b8",
   "metadata": {},
   "source": [
    "<img src=\"images/box-plot.png\" width=400 height=500 align=\"left\"> <img src=\"images/box-plot-construction.png\" width=500 height=500>"
   ]
  },
  {
   "cell_type": "markdown",
   "id": "5e7155f8",
   "metadata": {},
   "source": [
    "**Outlier Function: function for detect outliers in data, base on IQR criterion**"
   ]
  },
  {
   "cell_type": "code",
   "execution_count": 12,
   "id": "e0c316af",
   "metadata": {},
   "outputs": [],
   "source": [
    "def outlier_func(data):\n",
    "    outlier = []\n",
    "    q3, q1 = np.percentile(data , [75, 25])\n",
    "    iqr = q3 - q1\n",
    "    for i in data:\n",
    "        if (i > (q3 + 1.5 * iqr) or i < (q1 - 1.5 * iqr)):\n",
    "            outlier.append(True)\n",
    "        else:\n",
    "            outlier.append(False)\n",
    "    return outlier "
   ]
  },
  {
   "cell_type": "code",
   "execution_count": 13,
   "id": "d3d26e8d",
   "metadata": {},
   "outputs": [
    {
     "data": {
      "text/html": [
       "<div>\n",
       "<style scoped>\n",
       "    .dataframe tbody tr th:only-of-type {\n",
       "        vertical-align: middle;\n",
       "    }\n",
       "\n",
       "    .dataframe tbody tr th {\n",
       "        vertical-align: top;\n",
       "    }\n",
       "\n",
       "    .dataframe thead th {\n",
       "        text-align: right;\n",
       "    }\n",
       "</style>\n",
       "<table border=\"1\" class=\"dataframe\">\n",
       "  <thead>\n",
       "    <tr style=\"text-align: right;\">\n",
       "      <th></th>\n",
       "      <th>credit_score</th>\n",
       "      <th>age</th>\n",
       "      <th>tenure</th>\n",
       "      <th>balance</th>\n",
       "      <th>products_number</th>\n",
       "      <th>credit_card</th>\n",
       "      <th>active_member</th>\n",
       "      <th>estimated_salary</th>\n",
       "      <th>churn</th>\n",
       "    </tr>\n",
       "  </thead>\n",
       "  <tbody>\n",
       "    <tr>\n",
       "      <th>0</th>\n",
       "      <td>False</td>\n",
       "      <td>False</td>\n",
       "      <td>False</td>\n",
       "      <td>False</td>\n",
       "      <td>False</td>\n",
       "      <td>False</td>\n",
       "      <td>False</td>\n",
       "      <td>False</td>\n",
       "      <td>True</td>\n",
       "    </tr>\n",
       "    <tr>\n",
       "      <th>1</th>\n",
       "      <td>False</td>\n",
       "      <td>False</td>\n",
       "      <td>False</td>\n",
       "      <td>False</td>\n",
       "      <td>False</td>\n",
       "      <td>False</td>\n",
       "      <td>False</td>\n",
       "      <td>False</td>\n",
       "      <td>False</td>\n",
       "    </tr>\n",
       "    <tr>\n",
       "      <th>2</th>\n",
       "      <td>False</td>\n",
       "      <td>False</td>\n",
       "      <td>False</td>\n",
       "      <td>False</td>\n",
       "      <td>False</td>\n",
       "      <td>False</td>\n",
       "      <td>False</td>\n",
       "      <td>False</td>\n",
       "      <td>True</td>\n",
       "    </tr>\n",
       "    <tr>\n",
       "      <th>3</th>\n",
       "      <td>False</td>\n",
       "      <td>False</td>\n",
       "      <td>False</td>\n",
       "      <td>False</td>\n",
       "      <td>False</td>\n",
       "      <td>False</td>\n",
       "      <td>False</td>\n",
       "      <td>False</td>\n",
       "      <td>False</td>\n",
       "    </tr>\n",
       "    <tr>\n",
       "      <th>4</th>\n",
       "      <td>False</td>\n",
       "      <td>False</td>\n",
       "      <td>False</td>\n",
       "      <td>False</td>\n",
       "      <td>False</td>\n",
       "      <td>False</td>\n",
       "      <td>False</td>\n",
       "      <td>False</td>\n",
       "      <td>False</td>\n",
       "    </tr>\n",
       "    <tr>\n",
       "      <th>...</th>\n",
       "      <td>...</td>\n",
       "      <td>...</td>\n",
       "      <td>...</td>\n",
       "      <td>...</td>\n",
       "      <td>...</td>\n",
       "      <td>...</td>\n",
       "      <td>...</td>\n",
       "      <td>...</td>\n",
       "      <td>...</td>\n",
       "    </tr>\n",
       "    <tr>\n",
       "      <th>9995</th>\n",
       "      <td>False</td>\n",
       "      <td>False</td>\n",
       "      <td>False</td>\n",
       "      <td>False</td>\n",
       "      <td>False</td>\n",
       "      <td>False</td>\n",
       "      <td>False</td>\n",
       "      <td>False</td>\n",
       "      <td>False</td>\n",
       "    </tr>\n",
       "    <tr>\n",
       "      <th>9996</th>\n",
       "      <td>False</td>\n",
       "      <td>False</td>\n",
       "      <td>False</td>\n",
       "      <td>False</td>\n",
       "      <td>False</td>\n",
       "      <td>False</td>\n",
       "      <td>False</td>\n",
       "      <td>False</td>\n",
       "      <td>False</td>\n",
       "    </tr>\n",
       "    <tr>\n",
       "      <th>9997</th>\n",
       "      <td>False</td>\n",
       "      <td>False</td>\n",
       "      <td>False</td>\n",
       "      <td>False</td>\n",
       "      <td>False</td>\n",
       "      <td>False</td>\n",
       "      <td>False</td>\n",
       "      <td>False</td>\n",
       "      <td>True</td>\n",
       "    </tr>\n",
       "    <tr>\n",
       "      <th>9998</th>\n",
       "      <td>False</td>\n",
       "      <td>False</td>\n",
       "      <td>False</td>\n",
       "      <td>False</td>\n",
       "      <td>False</td>\n",
       "      <td>False</td>\n",
       "      <td>False</td>\n",
       "      <td>False</td>\n",
       "      <td>True</td>\n",
       "    </tr>\n",
       "    <tr>\n",
       "      <th>9999</th>\n",
       "      <td>False</td>\n",
       "      <td>False</td>\n",
       "      <td>False</td>\n",
       "      <td>False</td>\n",
       "      <td>False</td>\n",
       "      <td>False</td>\n",
       "      <td>False</td>\n",
       "      <td>False</td>\n",
       "      <td>False</td>\n",
       "    </tr>\n",
       "  </tbody>\n",
       "</table>\n",
       "<p>10000 rows × 9 columns</p>\n",
       "</div>"
      ],
      "text/plain": [
       "      credit_score    age  tenure  balance  products_number  credit_card  \\\n",
       "0            False  False   False    False            False        False   \n",
       "1            False  False   False    False            False        False   \n",
       "2            False  False   False    False            False        False   \n",
       "3            False  False   False    False            False        False   \n",
       "4            False  False   False    False            False        False   \n",
       "...            ...    ...     ...      ...              ...          ...   \n",
       "9995         False  False   False    False            False        False   \n",
       "9996         False  False   False    False            False        False   \n",
       "9997         False  False   False    False            False        False   \n",
       "9998         False  False   False    False            False        False   \n",
       "9999         False  False   False    False            False        False   \n",
       "\n",
       "      active_member  estimated_salary  churn  \n",
       "0             False             False   True  \n",
       "1             False             False  False  \n",
       "2             False             False   True  \n",
       "3             False             False  False  \n",
       "4             False             False  False  \n",
       "...             ...               ...    ...  \n",
       "9995          False             False  False  \n",
       "9996          False             False  False  \n",
       "9997          False             False   True  \n",
       "9998          False             False   True  \n",
       "9999          False             False  False  \n",
       "\n",
       "[10000 rows x 9 columns]"
      ]
     },
     "execution_count": 13,
     "metadata": {},
     "output_type": "execute_result"
    }
   ],
   "source": [
    "#column_names = list(data_churn.columns)\n",
    "# We did not include the two gender and country columns in the list of columns, because they are categorical data type!\n",
    "selected_column_names = ['credit_score','age','tenure','balance','products_number','credit_card',\n",
    "                         'active_member', 'estimated_salary','churn']\n",
    "df = pd.DataFrame()\n",
    "for name in selected_column_names:\n",
    "    df[name] = outlier_func(data_churn[name])\n",
    "df"
   ]
  },
  {
   "cell_type": "code",
   "execution_count": 14,
   "id": "68cdb5a1",
   "metadata": {},
   "outputs": [
    {
     "data": {
      "text/plain": [
       "[7, 5235]"
      ]
     },
     "execution_count": 14,
     "metadata": {},
     "output_type": "execute_result"
    }
   ],
   "source": [
    "#Objective: Find the sum of outliers in each record\n",
    "data_rowsum = df.sum(axis = 1)\n",
    "list(data_rowsum[data_rowsum >= 3].index) #The index list of records containing outliers greater than 3"
   ]
  },
  {
   "cell_type": "markdown",
   "id": "f6657224",
   "metadata": {},
   "source": [
    "#### Result: 2 records recognized as outlier data"
   ]
  },
  {
   "cell_type": "code",
   "execution_count": 15,
   "id": "10e6d6a7",
   "metadata": {},
   "outputs": [
    {
     "data": {
      "text/html": [
       "<div>\n",
       "<style scoped>\n",
       "    .dataframe tbody tr th:only-of-type {\n",
       "        vertical-align: middle;\n",
       "    }\n",
       "\n",
       "    .dataframe tbody tr th {\n",
       "        vertical-align: top;\n",
       "    }\n",
       "\n",
       "    .dataframe thead th {\n",
       "        text-align: right;\n",
       "    }\n",
       "</style>\n",
       "<table border=\"1\" class=\"dataframe\">\n",
       "  <thead>\n",
       "    <tr style=\"text-align: right;\">\n",
       "      <th></th>\n",
       "      <th>credit_score</th>\n",
       "      <th>country</th>\n",
       "      <th>gender</th>\n",
       "      <th>age</th>\n",
       "      <th>tenure</th>\n",
       "      <th>balance</th>\n",
       "      <th>products_number</th>\n",
       "      <th>credit_card</th>\n",
       "      <th>active_member</th>\n",
       "      <th>estimated_salary</th>\n",
       "      <th>churn</th>\n",
       "    </tr>\n",
       "  </thead>\n",
       "  <tbody>\n",
       "    <tr>\n",
       "      <th>7</th>\n",
       "      <td>376</td>\n",
       "      <td>Germany</td>\n",
       "      <td>Female</td>\n",
       "      <td>29</td>\n",
       "      <td>4</td>\n",
       "      <td>115046.74</td>\n",
       "      <td>4</td>\n",
       "      <td>1</td>\n",
       "      <td>0</td>\n",
       "      <td>119346.88</td>\n",
       "      <td>1</td>\n",
       "    </tr>\n",
       "    <tr>\n",
       "      <th>5235</th>\n",
       "      <td>645</td>\n",
       "      <td>France</td>\n",
       "      <td>Female</td>\n",
       "      <td>68</td>\n",
       "      <td>9</td>\n",
       "      <td>0.00</td>\n",
       "      <td>4</td>\n",
       "      <td>1</td>\n",
       "      <td>1</td>\n",
       "      <td>176353.87</td>\n",
       "      <td>1</td>\n",
       "    </tr>\n",
       "  </tbody>\n",
       "</table>\n",
       "</div>"
      ],
      "text/plain": [
       "      credit_score  country  gender  age  tenure    balance  products_number  \\\n",
       "7              376  Germany  Female   29       4  115046.74                4   \n",
       "5235           645   France  Female   68       9       0.00                4   \n",
       "\n",
       "      credit_card  active_member  estimated_salary  churn  \n",
       "7               1              0         119346.88      1  \n",
       "5235            1              1         176353.87      1  "
      ]
     },
     "execution_count": 15,
     "metadata": {},
     "output_type": "execute_result"
    }
   ],
   "source": [
    "#Show outliers data\n",
    "data_churn.loc[[7, 5235], :]"
   ]
  },
  {
   "cell_type": "code",
   "execution_count": 16,
   "id": "a7b5c874",
   "metadata": {},
   "outputs": [],
   "source": [
    "#remove outliers\n",
    "n_outlier_feature = 3 \n",
    "for j in range(len(data_churn)):\n",
    "    if data_rowsum[j] > n_outlier_feature :\n",
    "        data_churn = data_churn.drop(j)"
   ]
  },
  {
   "cell_type": "code",
   "execution_count": 17,
   "id": "7fbd3519",
   "metadata": {},
   "outputs": [
    {
     "data": {
      "text/plain": [
       "(10000, 11)"
      ]
     },
     "execution_count": 17,
     "metadata": {},
     "output_type": "execute_result"
    }
   ],
   "source": [
    "data_churn.shape"
   ]
  },
  {
   "cell_type": "markdown",
   "id": "6f8a859a",
   "metadata": {},
   "source": [
    "#### Results: \n",
    "#### No records were removed as outliers!\n",
    "- Because we decided that the information of these two outliers is useful for churn analysis!\n",
    "- On the other hand, both records had a churn value of 1."
   ]
  },
  {
   "cell_type": "markdown",
   "id": "d89d4e36",
   "metadata": {},
   "source": [
    "### 🟣 E: Handling missing values (Keep/Drop/Fill with mean ,median or mode/Imputation?)"
   ]
  },
  {
   "cell_type": "markdown",
   "id": "d177ce4c",
   "metadata": {},
   "source": [
    "#### How much data is missing?"
   ]
  },
  {
   "cell_type": "code",
   "execution_count": 18,
   "id": "4879a31a",
   "metadata": {},
   "outputs": [
    {
     "data": {
      "text/plain": [
       "credit_score        0\n",
       "country             0\n",
       "gender              0\n",
       "age                 0\n",
       "tenure              0\n",
       "balance             0\n",
       "products_number     0\n",
       "credit_card         0\n",
       "active_member       0\n",
       "estimated_salary    0\n",
       "churn               0\n",
       "dtype: int64"
      ]
     },
     "execution_count": 18,
     "metadata": {},
     "output_type": "execute_result"
    }
   ],
   "source": [
    "data_churn.isnull().sum()"
   ]
  },
  {
   "cell_type": "markdown",
   "id": "392ee27c",
   "metadata": {},
   "source": [
    "#### Result: we don't have any missing values!"
   ]
  },
  {
   "cell_type": "markdown",
   "id": "2110030f",
   "metadata": {},
   "source": [
    "# Step 5: Visualization & Analysis"
   ]
  },
  {
   "cell_type": "markdown",
   "id": "0c2129e9",
   "metadata": {},
   "source": [
    "### 🟣 A: Show data balancing for classification (target variable: churn)"
   ]
  },
  {
   "cell_type": "code",
   "execution_count": 19,
   "id": "a9a34856",
   "metadata": {},
   "outputs": [
    {
     "data": {
      "text/html": [
       "<div>\n",
       "<style scoped>\n",
       "    .dataframe tbody tr th:only-of-type {\n",
       "        vertical-align: middle;\n",
       "    }\n",
       "\n",
       "    .dataframe tbody tr th {\n",
       "        vertical-align: top;\n",
       "    }\n",
       "\n",
       "    .dataframe thead th {\n",
       "        text-align: right;\n",
       "    }\n",
       "</style>\n",
       "<table border=\"1\" class=\"dataframe\">\n",
       "  <thead>\n",
       "    <tr style=\"text-align: right;\">\n",
       "      <th></th>\n",
       "      <th>Count</th>\n",
       "      <th>Count%</th>\n",
       "    </tr>\n",
       "  </thead>\n",
       "  <tbody>\n",
       "    <tr>\n",
       "      <th>0</th>\n",
       "      <td>7963</td>\n",
       "      <td>79.63</td>\n",
       "    </tr>\n",
       "    <tr>\n",
       "      <th>1</th>\n",
       "      <td>2037</td>\n",
       "      <td>20.37</td>\n",
       "    </tr>\n",
       "  </tbody>\n",
       "</table>\n",
       "</div>"
      ],
      "text/plain": [
       "   Count  Count%\n",
       "0   7963   79.63\n",
       "1   2037   20.37"
      ]
     },
     "execution_count": 19,
     "metadata": {},
     "output_type": "execute_result"
    },
    {
     "data": {
      "image/png": "[encoded data removed]",
      "text/plain": [
       "<Figure size 1500x500 with 2 Axes>"
      ]
     },
     "metadata": {},
     "output_type": "display_data"
    }
   ],
   "source": [
    "# color palettes\n",
    "color = sns.color_palette()\n",
    "\n",
    "# find the the insight the churn columns and visualization using the countplot for seaborn and pie plot.\n",
    "plt.figure(figsize=(15,5))\n",
    "plt.subplot(1,2,1)\n",
    "sns.countplot(x = data_churn[\"churn\"],palette = color)\n",
    "plt.yticks(np.arange(0, 10001, step=1000))\n",
    "\n",
    "# Adding a title and labels to the plot\n",
    "plt.title('Frequency of Churn', fontsize = 16 )\n",
    "plt.xlabel('Churn', fontsize = 15)\n",
    "plt.ylabel('Count', fontsize = 15)\n",
    "\n",
    "# Adding annotations to the bars\n",
    "for i in range(len(data_churn[\"churn\"].value_counts())):\n",
    "    count = data_churn[\"churn\"].value_counts()[i]\n",
    "    label = count\n",
    "    plt.annotate(label, (i, count), ha ='center', va ='bottom', fontsize=12)\n",
    "\n",
    "plt.subplot(1,2,2)\n",
    "plt.pie(data_churn[\"churn\"].value_counts(), explode=[0.0,0.15], labels = [\"0: current customers\",\"1: exited customers\"],\n",
    "        colors = color, autopct = \"%.02f%%\", pctdistance = 0.5, labeldistance = 1.1)\n",
    "# Adding a title to the plot\n",
    "plt.title('Percentage of Cusomer Churn', fontsize = 16)\n",
    "\n",
    "data_balancing = pd.DataFrame()\n",
    "data_balancing[\"Count\"] = data_churn[\"churn\"].value_counts()\n",
    "data_balancing[\"Count%\"] = data_churn[\"churn\"].value_counts()/data_churn.shape[0]*100\n",
    "data_balancing"
   ]
  },
  {
   "cell_type": "markdown",
   "id": "b3b3fe58",
   "metadata": {},
   "source": [
    "### Observation:\n",
    "- Insight of the churn column: according to data actual churned customer are 2037 that means 20.37% of the customers have left."
   ]
  },
  {
   "cell_type": "markdown",
   "id": "85ed0a67",
   "metadata": {},
   "source": [
    "### 🟣 B: Show & Find the insight of gender based on churn"
   ]
  },
  {
   "cell_type": "code",
   "execution_count": 20,
   "id": "7fc15b92",
   "metadata": {},
   "outputs": [
    {
     "data": {
      "text/html": [
       "<div>\n",
       "<style scoped>\n",
       "    .dataframe tbody tr th:only-of-type {\n",
       "        vertical-align: middle;\n",
       "    }\n",
       "\n",
       "    .dataframe tbody tr th {\n",
       "        vertical-align: top;\n",
       "    }\n",
       "\n",
       "    .dataframe thead th {\n",
       "        text-align: right;\n",
       "    }\n",
       "</style>\n",
       "<table border=\"1\" class=\"dataframe\">\n",
       "  <thead>\n",
       "    <tr style=\"text-align: right;\">\n",
       "      <th></th>\n",
       "      <th>Count</th>\n",
       "      <th>Count%</th>\n",
       "    </tr>\n",
       "  </thead>\n",
       "  <tbody>\n",
       "    <tr>\n",
       "      <th>Male</th>\n",
       "      <td>5457</td>\n",
       "      <td>54.57</td>\n",
       "    </tr>\n",
       "    <tr>\n",
       "      <th>Female</th>\n",
       "      <td>4543</td>\n",
       "      <td>45.43</td>\n",
       "    </tr>\n",
       "  </tbody>\n",
       "</table>\n",
       "</div>"
      ],
      "text/plain": [
       "        Count  Count%\n",
       "Male     5457   54.57\n",
       "Female   4543   45.43"
      ]
     },
     "execution_count": 20,
     "metadata": {},
     "output_type": "execute_result"
    }
   ],
   "source": [
    "count_gender = pd.DataFrame()\n",
    "count_gender[\"Count\"] = data_churn[\"gender\"].value_counts()\n",
    "count_gender[\"Count%\"] = data_churn[\"gender\"].value_counts()/data_churn.shape[0]*100\n",
    "count_gender"
   ]
  },
  {
   "cell_type": "code",
   "execution_count": 21,
   "id": "26056483",
   "metadata": {},
   "outputs": [
    {
     "data": {
      "text/html": [
       "<div>\n",
       "<style scoped>\n",
       "    .dataframe tbody tr th:only-of-type {\n",
       "        vertical-align: middle;\n",
       "    }\n",
       "\n",
       "    .dataframe tbody tr th {\n",
       "        vertical-align: top;\n",
       "    }\n",
       "\n",
       "    .dataframe thead th {\n",
       "        text-align: right;\n",
       "    }\n",
       "</style>\n",
       "<table border=\"1\" class=\"dataframe\">\n",
       "  <thead>\n",
       "    <tr style=\"text-align: right;\">\n",
       "      <th></th>\n",
       "      <th></th>\n",
       "      <th>Count</th>\n",
       "      <th>Count%</th>\n",
       "    </tr>\n",
       "    <tr>\n",
       "      <th>churn</th>\n",
       "      <th>gender</th>\n",
       "      <th></th>\n",
       "      <th></th>\n",
       "    </tr>\n",
       "  </thead>\n",
       "  <tbody>\n",
       "    <tr>\n",
       "      <th>0</th>\n",
       "      <th>Female</th>\n",
       "      <td>3404</td>\n",
       "      <td>34.04</td>\n",
       "    </tr>\n",
       "    <tr>\n",
       "      <th>1</th>\n",
       "      <th>Female</th>\n",
       "      <td>1139</td>\n",
       "      <td>11.39</td>\n",
       "    </tr>\n",
       "    <tr>\n",
       "      <th>0</th>\n",
       "      <th>Male</th>\n",
       "      <td>4559</td>\n",
       "      <td>45.59</td>\n",
       "    </tr>\n",
       "    <tr>\n",
       "      <th>1</th>\n",
       "      <th>Male</th>\n",
       "      <td>898</td>\n",
       "      <td>8.98</td>\n",
       "    </tr>\n",
       "  </tbody>\n",
       "</table>\n",
       "</div>"
      ],
      "text/plain": [
       "              Count  Count%\n",
       "churn gender               \n",
       "0     Female   3404   34.04\n",
       "1     Female   1139   11.39\n",
       "0     Male     4559   45.59\n",
       "1     Male      898    8.98"
      ]
     },
     "execution_count": 21,
     "metadata": {},
     "output_type": "execute_result"
    }
   ],
   "source": [
    "count_gender_by_churn = pd.DataFrame()\n",
    "count_gender_by_churn[\"Count\"] = data_churn.gender.groupby(data_churn.churn).value_counts()\n",
    "count_gender_by_churn[\"Count%\"] = data_churn.gender.groupby(data_churn.churn).value_counts()/data_churn.shape[0]*100\n",
    "count_gender_by_churn.sort_values(by = \"gender\")"
   ]
  },
  {
   "cell_type": "code",
   "execution_count": 22,
   "id": "d08d672f",
   "metadata": {},
   "outputs": [
    {
     "data": {
      "image/png": "[encoded data removed]",
      "text/plain": [
       "<Figure size 1200x400 with 2 Axes>"
      ]
     },
     "metadata": {},
     "output_type": "display_data"
    }
   ],
   "source": [
    "# color palettes\n",
    "color_1 = sns.color_palette(\"Accent\",10)\n",
    "\n",
    "label = [\"Male_0\",\"Female_0\",\"Female_1\",\"Male_1\"]\n",
    "plt.figure(figsize=(12,4))\n",
    "plt.subplot(1,2,1)\n",
    "sns.countplot(data = data_churn, x=\"gender\", hue=\"churn\", palette=color)\n",
    "\n",
    "plt.subplot(1,2,2)\n",
    "# Adding a title to the plot\n",
    "plt.title('Percentage of gender based on churn', fontsize = 16)\n",
    "plt.pie(data_churn.gender.groupby(data_churn.churn).value_counts(), explode=[0.0,0.0,0.15,0.15],\n",
    "        labels = label, colors = color_1, autopct=\"%0.2f%%\")\n",
    "plt.show()"
   ]
  },
  {
   "cell_type": "markdown",
   "id": "1382464d",
   "metadata": {},
   "source": [
    "### Obsarvation:\n",
    "- Insight of the Gender column: mostly female customers are churned around 11.4% and male are churned around 9%.\n",
    "- In total, 20.37% of male and female customers left."
   ]
  },
  {
   "cell_type": "markdown",
   "id": "595f14f9",
   "metadata": {},
   "source": [
    "### 🟣 C: Show & Find the insight of country based on churn"
   ]
  },
  {
   "cell_type": "code",
   "execution_count": 23,
   "id": "243151ec",
   "metadata": {},
   "outputs": [
    {
     "data": {
      "text/html": [
       "<div>\n",
       "<style scoped>\n",
       "    .dataframe tbody tr th:only-of-type {\n",
       "        vertical-align: middle;\n",
       "    }\n",
       "\n",
       "    .dataframe tbody tr th {\n",
       "        vertical-align: top;\n",
       "    }\n",
       "\n",
       "    .dataframe thead th {\n",
       "        text-align: right;\n",
       "    }\n",
       "</style>\n",
       "<table border=\"1\" class=\"dataframe\">\n",
       "  <thead>\n",
       "    <tr style=\"text-align: right;\">\n",
       "      <th></th>\n",
       "      <th>Count</th>\n",
       "      <th>Count%</th>\n",
       "    </tr>\n",
       "  </thead>\n",
       "  <tbody>\n",
       "    <tr>\n",
       "      <th>France</th>\n",
       "      <td>5014</td>\n",
       "      <td>50.14</td>\n",
       "    </tr>\n",
       "    <tr>\n",
       "      <th>Germany</th>\n",
       "      <td>2509</td>\n",
       "      <td>25.09</td>\n",
       "    </tr>\n",
       "    <tr>\n",
       "      <th>Spain</th>\n",
       "      <td>2477</td>\n",
       "      <td>24.77</td>\n",
       "    </tr>\n",
       "  </tbody>\n",
       "</table>\n",
       "</div>"
      ],
      "text/plain": [
       "         Count  Count%\n",
       "France    5014   50.14\n",
       "Germany   2509   25.09\n",
       "Spain     2477   24.77"
      ]
     },
     "execution_count": 23,
     "metadata": {},
     "output_type": "execute_result"
    }
   ],
   "source": [
    "count_country = pd.DataFrame()\n",
    "count_country[\"Count\"] = data_churn[\"country\"].value_counts()\n",
    "count_country[\"Count%\"] = data_churn[\"country\"].value_counts()/data_churn.shape[0]*100\n",
    "count_country"
   ]
  },
  {
   "cell_type": "code",
   "execution_count": 24,
   "id": "427a90ce",
   "metadata": {},
   "outputs": [
    {
     "data": {
      "text/html": [
       "<div>\n",
       "<style scoped>\n",
       "    .dataframe tbody tr th:only-of-type {\n",
       "        vertical-align: middle;\n",
       "    }\n",
       "\n",
       "    .dataframe tbody tr th {\n",
       "        vertical-align: top;\n",
       "    }\n",
       "\n",
       "    .dataframe thead th {\n",
       "        text-align: right;\n",
       "    }\n",
       "</style>\n",
       "<table border=\"1\" class=\"dataframe\">\n",
       "  <thead>\n",
       "    <tr style=\"text-align: right;\">\n",
       "      <th></th>\n",
       "      <th></th>\n",
       "      <th>Count</th>\n",
       "      <th>Count%</th>\n",
       "    </tr>\n",
       "    <tr>\n",
       "      <th>churn</th>\n",
       "      <th>country</th>\n",
       "      <th></th>\n",
       "      <th></th>\n",
       "    </tr>\n",
       "  </thead>\n",
       "  <tbody>\n",
       "    <tr>\n",
       "      <th rowspan=\"3\" valign=\"top\">0</th>\n",
       "      <th>France</th>\n",
       "      <td>4204</td>\n",
       "      <td>42.04</td>\n",
       "    </tr>\n",
       "    <tr>\n",
       "      <th>Spain</th>\n",
       "      <td>2064</td>\n",
       "      <td>20.64</td>\n",
       "    </tr>\n",
       "    <tr>\n",
       "      <th>Germany</th>\n",
       "      <td>1695</td>\n",
       "      <td>16.95</td>\n",
       "    </tr>\n",
       "    <tr>\n",
       "      <th rowspan=\"3\" valign=\"top\">1</th>\n",
       "      <th>Germany</th>\n",
       "      <td>814</td>\n",
       "      <td>8.14</td>\n",
       "    </tr>\n",
       "    <tr>\n",
       "      <th>France</th>\n",
       "      <td>810</td>\n",
       "      <td>8.10</td>\n",
       "    </tr>\n",
       "    <tr>\n",
       "      <th>Spain</th>\n",
       "      <td>413</td>\n",
       "      <td>4.13</td>\n",
       "    </tr>\n",
       "  </tbody>\n",
       "</table>\n",
       "</div>"
      ],
      "text/plain": [
       "               Count  Count%\n",
       "churn country               \n",
       "0     France    4204   42.04\n",
       "      Spain     2064   20.64\n",
       "      Germany   1695   16.95\n",
       "1     Germany    814    8.14\n",
       "      France     810    8.10\n",
       "      Spain      413    4.13"
      ]
     },
     "execution_count": 24,
     "metadata": {},
     "output_type": "execute_result"
    }
   ],
   "source": [
    "count_country_by_churn = pd.DataFrame()\n",
    "count_country_by_churn[\"Count\"] = data_churn.country.groupby(data_churn.churn).value_counts()\n",
    "count_country_by_churn[\"Count%\"] = data_churn.country.groupby(data_churn.churn).value_counts()/data_churn.shape[0]*100\n",
    "count_country_by_churn"
   ]
  },
  {
   "cell_type": "code",
   "execution_count": 25,
   "id": "e42cd7a1",
   "metadata": {},
   "outputs": [
    {
     "data": {
      "image/png": "[encoded data removed]",
      "text/plain": [
       "<Figure size 1200x400 with 2 Axes>"
      ]
     },
     "metadata": {},
     "output_type": "display_data"
    }
   ],
   "source": [
    "# color palettes\n",
    "color_1 = sns.color_palette(\"Accent\",10)\n",
    "\n",
    "label = [\"France_0\",\"Spain_0\",\"Germany_0\",\"Germany_1\",\"France_1\",\"Spain_1\"]\n",
    "plt.figure(figsize=(12,4))\n",
    "plt.subplot(1,2,1)\n",
    "sns.countplot(data = data_churn, x=\"country\", hue=\"churn\", palette=color)\n",
    "\n",
    "plt.subplot(1,2,2)\n",
    "# Adding a title to the plot\n",
    "plt.title('Percentage of country based on churn', fontsize = 16)\n",
    "plt.pie(data_churn.country.groupby(data_churn.churn).value_counts(), explode=[0.0,0.0,0.0,0.1,0.1,0.1],\n",
    "        labels = label, colors = color_1, autopct=\"%0.2f%%\")\n",
    "plt.show()"
   ]
  },
  {
   "cell_type": "markdown",
   "id": "415bee80",
   "metadata": {},
   "source": [
    "### Observation:\n",
    "Insights of the country column is as follow:  \n",
    "- mostly customer are churned from Germany 8.14% and France 8.1% and Spain 4.13%.\n",
    "- But the following points are very important for each country:\n",
    "    - About 32% of customers from Germany left (814 of 2509)!\n",
    "    - About 17% of customers from Spain left (413 of 2477)!\n",
    "    - About 16% of customers from France left (810 of 5014)!\n",
    "    - In total, 20.37% of these customers left."
   ]
  },
  {
   "cell_type": "markdown",
   "id": "97ec8e88",
   "metadata": {},
   "source": [
    "### 🟣 D: Show & Find the insights of products_number, credit_card and active_member based on churn"
   ]
  },
  {
   "cell_type": "code",
   "execution_count": 26,
   "id": "6fc1e65f",
   "metadata": {},
   "outputs": [
    {
     "data": {
      "text/html": [
       "<div>\n",
       "<style scoped>\n",
       "    .dataframe tbody tr th:only-of-type {\n",
       "        vertical-align: middle;\n",
       "    }\n",
       "\n",
       "    .dataframe tbody tr th {\n",
       "        vertical-align: top;\n",
       "    }\n",
       "\n",
       "    .dataframe thead th {\n",
       "        text-align: right;\n",
       "    }\n",
       "</style>\n",
       "<table border=\"1\" class=\"dataframe\">\n",
       "  <thead>\n",
       "    <tr style=\"text-align: right;\">\n",
       "      <th></th>\n",
       "      <th></th>\n",
       "      <th>Count</th>\n",
       "      <th>Count%</th>\n",
       "    </tr>\n",
       "    <tr>\n",
       "      <th>churn</th>\n",
       "      <th>products_number</th>\n",
       "      <th></th>\n",
       "      <th></th>\n",
       "    </tr>\n",
       "  </thead>\n",
       "  <tbody>\n",
       "    <tr>\n",
       "      <th rowspan=\"3\" valign=\"top\">0</th>\n",
       "      <th>2</th>\n",
       "      <td>4242</td>\n",
       "      <td>42.42</td>\n",
       "    </tr>\n",
       "    <tr>\n",
       "      <th>1</th>\n",
       "      <td>3675</td>\n",
       "      <td>36.75</td>\n",
       "    </tr>\n",
       "    <tr>\n",
       "      <th>3</th>\n",
       "      <td>46</td>\n",
       "      <td>0.46</td>\n",
       "    </tr>\n",
       "    <tr>\n",
       "      <th rowspan=\"4\" valign=\"top\">1</th>\n",
       "      <th>1</th>\n",
       "      <td>1409</td>\n",
       "      <td>14.09</td>\n",
       "    </tr>\n",
       "    <tr>\n",
       "      <th>2</th>\n",
       "      <td>348</td>\n",
       "      <td>3.48</td>\n",
       "    </tr>\n",
       "    <tr>\n",
       "      <th>3</th>\n",
       "      <td>220</td>\n",
       "      <td>2.20</td>\n",
       "    </tr>\n",
       "    <tr>\n",
       "      <th>4</th>\n",
       "      <td>60</td>\n",
       "      <td>0.60</td>\n",
       "    </tr>\n",
       "  </tbody>\n",
       "</table>\n",
       "</div>"
      ],
      "text/plain": [
       "                       Count  Count%\n",
       "churn products_number               \n",
       "0     2                 4242   42.42\n",
       "      1                 3675   36.75\n",
       "      3                   46    0.46\n",
       "1     1                 1409   14.09\n",
       "      2                  348    3.48\n",
       "      3                  220    2.20\n",
       "      4                   60    0.60"
      ]
     },
     "execution_count": 26,
     "metadata": {},
     "output_type": "execute_result"
    }
   ],
   "source": [
    "count_products_number_by_churn = pd.DataFrame()\n",
    "cpnc = count_products_number_by_churn.copy()\n",
    "cpnc[\"Count\"] = data_churn.products_number.groupby(data_churn.churn).value_counts()\n",
    "cpnc[\"Count%\"] = data_churn.products_number.groupby(data_churn.churn).value_counts()/data_churn.shape[0]*100\n",
    "cpnc"
   ]
  },
  {
   "cell_type": "code",
   "execution_count": 27,
   "id": "41e4740b",
   "metadata": {},
   "outputs": [
    {
     "data": {
      "text/html": [
       "<div>\n",
       "<style scoped>\n",
       "    .dataframe tbody tr th:only-of-type {\n",
       "        vertical-align: middle;\n",
       "    }\n",
       "\n",
       "    .dataframe tbody tr th {\n",
       "        vertical-align: top;\n",
       "    }\n",
       "\n",
       "    .dataframe thead th {\n",
       "        text-align: right;\n",
       "    }\n",
       "</style>\n",
       "<table border=\"1\" class=\"dataframe\">\n",
       "  <thead>\n",
       "    <tr style=\"text-align: right;\">\n",
       "      <th></th>\n",
       "      <th></th>\n",
       "      <th>Count</th>\n",
       "      <th>Count%</th>\n",
       "    </tr>\n",
       "    <tr>\n",
       "      <th>churn</th>\n",
       "      <th>credit_card</th>\n",
       "      <th></th>\n",
       "      <th></th>\n",
       "    </tr>\n",
       "  </thead>\n",
       "  <tbody>\n",
       "    <tr>\n",
       "      <th rowspan=\"2\" valign=\"top\">0</th>\n",
       "      <th>1</th>\n",
       "      <td>5631</td>\n",
       "      <td>56.31</td>\n",
       "    </tr>\n",
       "    <tr>\n",
       "      <th>0</th>\n",
       "      <td>2332</td>\n",
       "      <td>23.32</td>\n",
       "    </tr>\n",
       "    <tr>\n",
       "      <th rowspan=\"2\" valign=\"top\">1</th>\n",
       "      <th>1</th>\n",
       "      <td>1424</td>\n",
       "      <td>14.24</td>\n",
       "    </tr>\n",
       "    <tr>\n",
       "      <th>0</th>\n",
       "      <td>613</td>\n",
       "      <td>6.13</td>\n",
       "    </tr>\n",
       "  </tbody>\n",
       "</table>\n",
       "</div>"
      ],
      "text/plain": [
       "                   Count  Count%\n",
       "churn credit_card               \n",
       "0     1             5631   56.31\n",
       "      0             2332   23.32\n",
       "1     1             1424   14.24\n",
       "      0              613    6.13"
      ]
     },
     "execution_count": 27,
     "metadata": {},
     "output_type": "execute_result"
    }
   ],
   "source": [
    "count_credit_card_by_churn = pd.DataFrame()\n",
    "cccc = count_credit_card_by_churn.copy()\n",
    "cccc[\"Count\"] = data_churn.credit_card.groupby(data_churn.churn).value_counts()\n",
    "cccc[\"Count%\"] = data_churn.credit_card.groupby(data_churn.churn).value_counts()/data_churn.shape[0]*100\n",
    "cccc"
   ]
  },
  {
   "cell_type": "code",
   "execution_count": 28,
   "id": "99e6b3a3",
   "metadata": {},
   "outputs": [
    {
     "data": {
      "text/html": [
       "<div>\n",
       "<style scoped>\n",
       "    .dataframe tbody tr th:only-of-type {\n",
       "        vertical-align: middle;\n",
       "    }\n",
       "\n",
       "    .dataframe tbody tr th {\n",
       "        vertical-align: top;\n",
       "    }\n",
       "\n",
       "    .dataframe thead th {\n",
       "        text-align: right;\n",
       "    }\n",
       "</style>\n",
       "<table border=\"1\" class=\"dataframe\">\n",
       "  <thead>\n",
       "    <tr style=\"text-align: right;\">\n",
       "      <th></th>\n",
       "      <th></th>\n",
       "      <th>Count</th>\n",
       "      <th>Count%</th>\n",
       "    </tr>\n",
       "    <tr>\n",
       "      <th>churn</th>\n",
       "      <th>active_member</th>\n",
       "      <th></th>\n",
       "      <th></th>\n",
       "    </tr>\n",
       "  </thead>\n",
       "  <tbody>\n",
       "    <tr>\n",
       "      <th rowspan=\"2\" valign=\"top\">0</th>\n",
       "      <th>1</th>\n",
       "      <td>4416</td>\n",
       "      <td>44.16</td>\n",
       "    </tr>\n",
       "    <tr>\n",
       "      <th>0</th>\n",
       "      <td>3547</td>\n",
       "      <td>35.47</td>\n",
       "    </tr>\n",
       "    <tr>\n",
       "      <th rowspan=\"2\" valign=\"top\">1</th>\n",
       "      <th>0</th>\n",
       "      <td>1302</td>\n",
       "      <td>13.02</td>\n",
       "    </tr>\n",
       "    <tr>\n",
       "      <th>1</th>\n",
       "      <td>735</td>\n",
       "      <td>7.35</td>\n",
       "    </tr>\n",
       "  </tbody>\n",
       "</table>\n",
       "</div>"
      ],
      "text/plain": [
       "                     Count  Count%\n",
       "churn active_member               \n",
       "0     1               4416   44.16\n",
       "      0               3547   35.47\n",
       "1     0               1302   13.02\n",
       "      1                735    7.35"
      ]
     },
     "execution_count": 28,
     "metadata": {},
     "output_type": "execute_result"
    }
   ],
   "source": [
    "count_active_member_by_churn = pd.DataFrame()\n",
    "camc = count_active_member_by_churn.copy()\n",
    "camc[\"Count\"] = data_churn.active_member.groupby(data_churn.churn).value_counts()\n",
    "camc[\"Count%\"] = data_churn.active_member.groupby(data_churn.churn).value_counts()/data_churn.shape[0]*100\n",
    "camc"
   ]
  },
  {
   "cell_type": "code",
   "execution_count": 29,
   "id": "91b667ae",
   "metadata": {},
   "outputs": [
    {
     "data": {
      "image/png": "[encoded data removed]",
      "text/plain": [
       "<Figure size 1500x500 with 3 Axes>"
      ]
     },
     "metadata": {},
     "output_type": "display_data"
    }
   ],
   "source": [
    "#Draw plots\n",
    "plt.figure(figsize=(15,5))\n",
    "plt.subplot(1,3,1)\n",
    "sns.countplot(data=data_churn, x=\"products_number\", hue=\"churn\", palette=color)\n",
    "plt.subplot(1,3,2)\n",
    "sns.countplot(data=data_churn, x=\"credit_card\", hue=\"churn\", palette=color_1)\n",
    "plt.subplot(1,3,3)\n",
    "sns.countplot(data=data_churn, x=\"active_member\", hue=\"churn\", palette=color)\n",
    "plt.show()"
   ]
  },
  {
   "cell_type": "markdown",
   "id": "23c94b44",
   "metadata": {},
   "source": [
    "### Observation:\n",
    "- Insight of the products_number column: most of the 1 products_number customers are churned around 14%.\n",
    "    - It's also have greater chances of churn.\n",
    "- Insight of the credit_card column: most of the 1 credit_card customers are churned around 14%.\n",
    "    - Customers who have a credit card, so they have a higher chance of churn!\n",
    "- Insight of the active_member column: mostly 0 active_member are churned around 13%.\n",
    "    - Inactive customers also have greater chances of churn."
   ]
  },
  {
   "cell_type": "markdown",
   "id": "9979872f",
   "metadata": {},
   "source": [
    "### 🟣 E: Show & Find the insights of age based on churn"
   ]
  },
  {
   "cell_type": "code",
   "execution_count": 30,
   "id": "bef0f647",
   "metadata": {},
   "outputs": [
    {
     "data": {
      "image/png": "[encoded data removed]",
      "text/plain": [
       "<Figure size 1000x500 with 1 Axes>"
      ]
     },
     "metadata": {},
     "output_type": "display_data"
    }
   ],
   "source": [
    "# Plot a histogram of the 'age' feature\n",
    "plt.figure(figsize =(10,5))\n",
    "plt.hist(data_churn['age'], bins=30, color='darkblue')\n",
    "plt.xlabel('age')\n",
    "plt.ylabel('Number of customers')\n",
    "plt.title('Distribution of age')\n",
    "plt.show()"
   ]
  },
  {
   "cell_type": "code",
   "execution_count": 31,
   "id": "bdc69250",
   "metadata": {},
   "outputs": [
    {
     "name": "stdout",
     "output_type": "stream",
     "text": [
      "Minimun Age: 18\n",
      "Maximum Age: 92\n",
      "Median Age: 37.0\n"
     ]
    }
   ],
   "source": [
    "print('Minimun Age:', data_churn['age'].min())\n",
    "print('Maximum Age:', data_churn['age'].max())\n",
    "print('Median Age:', data_churn['age'].median())"
   ]
  },
  {
   "cell_type": "code",
   "execution_count": 32,
   "id": "ca3304e0",
   "metadata": {},
   "outputs": [],
   "source": [
    "#Number of customers by country and Age Group:\n",
    "\n",
    "# Create age groups (e.g., 20-30, 31-40, etc.)\n",
    "age_bins = [0, 20, 30, 40, 50, 60, 70, 92]\n",
    "age_labels = ['0-20', '21-30', '31-40', '41-50', '51-60', '61-70', '71+']\n",
    "data_churn['Age Group'] = pd.cut(data_churn['age'], bins=age_bins, labels=age_labels)\n",
    "\n",
    "# Aggregate number of customers by country and age group\n",
    "No_of_customers_country_age = data_churn.groupby(['country', 'Age Group']).size().reset_index(name='Number of Customers')\n",
    "\n",
    "# Sort the aggregated data by the number of customers in ascending order\n",
    "No_of_customers_country_age_sorted = No_of_customers_country_age.sort_values(by='Number of Customers', ascending=False)"
   ]
  },
  {
   "cell_type": "code",
   "execution_count": 33,
   "id": "08163498",
   "metadata": {},
   "outputs": [
    {
     "data": {
      "text/html": [
       "<div>\n",
       "<style scoped>\n",
       "    .dataframe tbody tr th:only-of-type {\n",
       "        vertical-align: middle;\n",
       "    }\n",
       "\n",
       "    .dataframe tbody tr th {\n",
       "        vertical-align: top;\n",
       "    }\n",
       "\n",
       "    .dataframe thead th {\n",
       "        text-align: right;\n",
       "    }\n",
       "</style>\n",
       "<table border=\"1\" class=\"dataframe\">\n",
       "  <thead>\n",
       "    <tr style=\"text-align: right;\">\n",
       "      <th></th>\n",
       "      <th>credit_score</th>\n",
       "      <th>country</th>\n",
       "      <th>gender</th>\n",
       "      <th>age</th>\n",
       "      <th>tenure</th>\n",
       "      <th>balance</th>\n",
       "      <th>products_number</th>\n",
       "      <th>credit_card</th>\n",
       "      <th>active_member</th>\n",
       "      <th>estimated_salary</th>\n",
       "      <th>churn</th>\n",
       "      <th>Age Group</th>\n",
       "    </tr>\n",
       "  </thead>\n",
       "  <tbody>\n",
       "    <tr>\n",
       "      <th>0</th>\n",
       "      <td>619</td>\n",
       "      <td>France</td>\n",
       "      <td>Female</td>\n",
       "      <td>42</td>\n",
       "      <td>2</td>\n",
       "      <td>0.00</td>\n",
       "      <td>1</td>\n",
       "      <td>1</td>\n",
       "      <td>1</td>\n",
       "      <td>101348.88</td>\n",
       "      <td>1</td>\n",
       "      <td>41-50</td>\n",
       "    </tr>\n",
       "    <tr>\n",
       "      <th>1</th>\n",
       "      <td>608</td>\n",
       "      <td>Spain</td>\n",
       "      <td>Female</td>\n",
       "      <td>41</td>\n",
       "      <td>1</td>\n",
       "      <td>83807.86</td>\n",
       "      <td>1</td>\n",
       "      <td>0</td>\n",
       "      <td>1</td>\n",
       "      <td>112542.58</td>\n",
       "      <td>0</td>\n",
       "      <td>41-50</td>\n",
       "    </tr>\n",
       "    <tr>\n",
       "      <th>2</th>\n",
       "      <td>502</td>\n",
       "      <td>France</td>\n",
       "      <td>Female</td>\n",
       "      <td>42</td>\n",
       "      <td>8</td>\n",
       "      <td>159660.80</td>\n",
       "      <td>3</td>\n",
       "      <td>1</td>\n",
       "      <td>0</td>\n",
       "      <td>113931.57</td>\n",
       "      <td>1</td>\n",
       "      <td>41-50</td>\n",
       "    </tr>\n",
       "    <tr>\n",
       "      <th>3</th>\n",
       "      <td>699</td>\n",
       "      <td>France</td>\n",
       "      <td>Female</td>\n",
       "      <td>39</td>\n",
       "      <td>1</td>\n",
       "      <td>0.00</td>\n",
       "      <td>2</td>\n",
       "      <td>0</td>\n",
       "      <td>0</td>\n",
       "      <td>93826.63</td>\n",
       "      <td>0</td>\n",
       "      <td>31-40</td>\n",
       "    </tr>\n",
       "  </tbody>\n",
       "</table>\n",
       "</div>"
      ],
      "text/plain": [
       "   credit_score country  gender  age  tenure    balance  products_number  \\\n",
       "0           619  France  Female   42       2       0.00                1   \n",
       "1           608   Spain  Female   41       1   83807.86                1   \n",
       "2           502  France  Female   42       8  159660.80                3   \n",
       "3           699  France  Female   39       1       0.00                2   \n",
       "\n",
       "   credit_card  active_member  estimated_salary  churn Age Group  \n",
       "0            1              1         101348.88      1     41-50  \n",
       "1            0              1         112542.58      0     41-50  \n",
       "2            1              0         113931.57      1     41-50  \n",
       "3            0              0          93826.63      0     31-40  "
      ]
     },
     "execution_count": 33,
     "metadata": {},
     "output_type": "execute_result"
    }
   ],
   "source": [
    "data_churn.head(4)\n",
    "#data_churn[[\"Age Group\", \"age\"]] [data_churn[\"age\"]==51]\n",
    "#data_churn.drop(\"Age Group\", axis=1, inplace=True)"
   ]
  },
  {
   "cell_type": "markdown",
   "id": "b681eaa3",
   "metadata": {},
   "source": [
    "### Draw bar chart for number of customers with age group based on country:"
   ]
  },
  {
   "cell_type": "code",
   "execution_count": 34,
   "id": "aa1bfe55",
   "metadata": {},
   "outputs": [
    {
     "data": {
      "image/png": "[encoded data removed]",
      "text/plain": [
       "<Figure size 800x400 with 1 Axes>"
      ]
     },
     "metadata": {},
     "output_type": "display_data"
    }
   ],
   "source": [
    "# Draw bar chart for number of customers with Age group based on country\n",
    "plt.figure(figsize=(8,4))\n",
    "sns.barplot(data=No_of_customers_country_age_sorted, x='Age Group', y='Number of Customers', hue='country')\n",
    "plt.xlabel('Age Group')\n",
    "plt.ylabel('Number of Customers')\n",
    "plt.title('Number of Customers by Age Group & Country')\n",
    "plt.tight_layout()\n",
    "plt.show()"
   ]
  },
  {
   "cell_type": "markdown",
   "id": "fa640649",
   "metadata": {},
   "source": [
    "### Draw distribution plot of age based on churn:"
   ]
  },
  {
   "cell_type": "code",
   "execution_count": 35,
   "id": "6f8d0ada",
   "metadata": {},
   "outputs": [
    {
     "data": {
      "image/png": "[encoded data removed]",
      "text/plain": [
       "<Figure size 958.875x300 with 1 Axes>"
      ]
     },
     "metadata": {},
     "output_type": "display_data"
    }
   ],
   "source": [
    "#distribution plot of age based on churn\n",
    "facet = sns.FacetGrid(data_churn, hue=\"churn\", aspect=3)\n",
    "facet.map(sns.kdeplot, \"age\", shade= True)\n",
    "facet.set(xlim=(0, data_churn[\"age\"].max()))\n",
    "facet.add_legend()\n",
    "plt.show()"
   ]
  },
  {
   "cell_type": "markdown",
   "id": "a253a508",
   "metadata": {},
   "source": [
    "### Observation:\n",
    "- In histogram, customers between age about 20 to 50 years old are the most.\n",
    "    - Cause: This age group represents the working population and individuals who are likely to have banking needs such as loans, mortgages, and investments.\n",
    "- The largest number of customers from all three countries are in the age group of 20 to 50 years old.\n",
    "- Above distribution shows that about 30 to 70 years old customers are higher chances to churn."
   ]
  },
  {
   "cell_type": "markdown",
   "id": "9947beab",
   "metadata": {},
   "source": [
    "### 🟣 F: Show & Find the insights of balance and estimated_salary based on churn"
   ]
  },
  {
   "cell_type": "code",
   "execution_count": 36,
   "id": "25a06dfc",
   "metadata": {},
   "outputs": [
    {
     "data": {
      "image/png": "[encoded data removed]",
      "text/plain": [
       "<Figure size 1000x500 with 2 Axes>"
      ]
     },
     "metadata": {},
     "output_type": "display_data"
    }
   ],
   "source": [
    "plt.figure(figsize=(10,5))\n",
    "plt.subplot(1,2,1)\n",
    "sns.boxplot(y=data_churn[\"balance\"], x=data_churn[\"churn\"], hue=data_churn[\"churn\"], palette=color_1)\n",
    "plt.subplot(1,2,2)\n",
    "sns.boxplot(y=data_churn[\"estimated_salary\"], x=data_churn[\"churn\"], hue=data_churn[\"churn\"], palette=color)\n",
    "plt.tight_layout()\n",
    "plt.show()"
   ]
  },
  {
   "cell_type": "code",
   "execution_count": 37,
   "id": "0bf091ea",
   "metadata": {},
   "outputs": [
    {
     "data": {
      "image/png": "[encoded data removed]",
      "text/plain": [
       "<Figure size 958.875x300 with 1 Axes>"
      ]
     },
     "metadata": {},
     "output_type": "display_data"
    }
   ],
   "source": [
    "facet = sns.FacetGrid(data_churn, hue=\"churn\", aspect=3)\n",
    "facet.map(sns.kdeplot,\"balance\",shade= True)\n",
    "facet.set(xlim=(0, data_churn[\"balance\"].max()))\n",
    "facet.add_legend()\n",
    "plt.show()"
   ]
  },
  {
   "cell_type": "markdown",
   "id": "7d5726c4",
   "metadata": {},
   "source": [
    "### Observation:\n",
    "- Insight of the balance column: the range of minimum balance 50000 and maximum balance of the 250000 customers are churned.\n",
    "- Insight of the estimated_salary column: mostly range of 25% estimated_salary 50000 above and maximum estimated_salary of the 170000 customers are churned."
   ]
  },
  {
   "cell_type": "markdown",
   "id": "d615a127",
   "metadata": {},
   "source": [
    "### 🟣 G: Show & Find the insights of tenure and credit_score based on churn"
   ]
  },
  {
   "cell_type": "code",
   "execution_count": 38,
   "id": "6c3f7dfa",
   "metadata": {},
   "outputs": [
    {
     "data": {
      "image/png": "[encoded data removed]",
      "text/plain": [
       "<Figure size 1000x500 with 2 Axes>"
      ]
     },
     "metadata": {},
     "output_type": "display_data"
    }
   ],
   "source": [
    "plt.figure(figsize=(10,5))\n",
    "plt.subplot(1,2,1)\n",
    "sns.boxplot(y=data_churn[\"credit_score\"], x=data_churn[\"churn\"], hue=data_churn[\"churn\"], palette=color)\n",
    "plt.subplot(1,2,2)\n",
    "sns.boxplot(y=data_churn[\"tenure\"], x=data_churn[\"churn\"], hue=data_churn[\"churn\"], palette=color_1)\n",
    "plt.tight_layout()\n",
    "plt.show()"
   ]
  },
  {
   "cell_type": "code",
   "execution_count": 39,
   "id": "5a6a609c",
   "metadata": {},
   "outputs": [
    {
     "name": "stdout",
     "output_type": "stream",
     "text": [
      "Minimun credit_score: 350\n",
      "Maximum credit_score: 850\n",
      "Median credit_score: 652.0\n"
     ]
    },
    {
     "data": {
      "image/png": "[encoded data removed]",
      "text/plain": [
       "<Figure size 958.875x300 with 1 Axes>"
      ]
     },
     "metadata": {},
     "output_type": "display_data"
    }
   ],
   "source": [
    "facet = sns.FacetGrid(data_churn, hue=\"churn\", aspect=3)\n",
    "facet.map(sns.kdeplot, \"credit_score\", shade= True)\n",
    "facet.set(xlim=(0, data_churn[\"credit_score\"].max()))\n",
    "facet.add_legend()\n",
    "#plt.show()\n",
    "print('Minimun credit_score:',data_churn['credit_score'].min())\n",
    "print('Maximum credit_score:',data_churn['credit_score'].max())\n",
    "print('Median credit_score:',data_churn['credit_score'].median())"
   ]
  },
  {
   "cell_type": "code",
   "execution_count": 40,
   "id": "908c32ca",
   "metadata": {},
   "outputs": [
    {
     "data": {
      "image/png": "[encoded data removed]",
      "text/plain": [
       "<Figure size 1200x500 with 1 Axes>"
      ]
     },
     "metadata": {},
     "output_type": "display_data"
    }
   ],
   "source": [
    "plt.figure(figsize=(12,5))\n",
    "sns.countplot(data=data_churn, x=\"tenure\", hue=\"churn\", palette=\"bright\")\n",
    "plt.tight_layout()\n",
    "plt.show()"
   ]
  },
  {
   "cell_type": "markdown",
   "id": "2e9cb2e1",
   "metadata": {},
   "source": [
    "### Observation:\n",
    "- Insight of the credit_score column: minimum of the 350 to max 850 credit_score customers are churned.\n",
    "- Insight of the tenure column:It seems that the churn ratio is the same in all of them!"
   ]
  },
  {
   "cell_type": "markdown",
   "id": "28743237",
   "metadata": {},
   "source": [
    "### 🟣 H: Correlation Matrix"
   ]
  },
  {
   "cell_type": "code",
   "execution_count": 41,
   "id": "08ca8c08",
   "metadata": {},
   "outputs": [
    {
     "data": {
      "image/png": "[encoded data removed]",
      "text/plain": [
       "<Figure size 1000x500 with 2 Axes>"
      ]
     },
     "metadata": {},
     "output_type": "display_data"
    }
   ],
   "source": [
    "plt.figure(figsize=(10, 5))\n",
    "sns.heatmap(data_churn.corr(), annot=True, cmap='coolwarm', fmt=\".2f\", linewidths=.5)\n",
    "plt.title('Correlation Matrix: Standard Correlation Coefficient')\n",
    "plt.tight_layout()\n",
    "plt.show()"
   ]
  },
  {
   "cell_type": "markdown",
   "id": "7dbad9c9",
   "metadata": {},
   "source": [
    "### Observation: \n",
    "- **Findings:** \n",
    "    - Not a very good correlations between features.\n",
    "    - The correlation analysis reveals that there is no strong linear relationship between the features examined.\n",
    "- **Cause:**\n",
    "    - The absence of strong correlations suggests that customer churn may be influenced by a combination of multiple factors rather than a single dominant factor.\n",
    "- **Note:**\n",
    "    - There are no **country** and **gender** columns in the correlation matrix because they have a categorical data type!\n",
    "    - So, first we convert them to numerical data type."
   ]
  },
  {
   "cell_type": "markdown",
   "id": "a3801e61",
   "metadata": {},
   "source": [
    "# Step 6: Data Preprocessing (Part 2)"
   ]
  },
  {
   "cell_type": "markdown",
   "id": "ee9f7c49",
   "metadata": {},
   "source": [
    "### 🟣 A: Feature Engineering"
   ]
  },
  {
   "cell_type": "markdown",
   "id": "3c385da9",
   "metadata": {},
   "source": [
    "- We performed feature engineering on the age column and created a new column called age group"
   ]
  },
  {
   "cell_type": "markdown",
   "id": "4ef7450b",
   "metadata": {},
   "source": [
    "### 🟣 B: Convert category values to number discrete values in gender variable"
   ]
  },
  {
   "cell_type": "code",
   "execution_count": 42,
   "id": "d64cf9de",
   "metadata": {},
   "outputs": [],
   "source": [
    "data_churn_New = pd.DataFrame()\n",
    "data_churn_New = data_churn.copy()\n",
    "data_churn_New['gender'] = np.where(data_churn['gender'] == 'Male', 1, 0)"
   ]
  },
  {
   "cell_type": "code",
   "execution_count": 43,
   "id": "ca5545aa",
   "metadata": {},
   "outputs": [
    {
     "data": {
      "text/html": [
       "<div>\n",
       "<style scoped>\n",
       "    .dataframe tbody tr th:only-of-type {\n",
       "        vertical-align: middle;\n",
       "    }\n",
       "\n",
       "    .dataframe tbody tr th {\n",
       "        vertical-align: top;\n",
       "    }\n",
       "\n",
       "    .dataframe thead th {\n",
       "        text-align: right;\n",
       "    }\n",
       "</style>\n",
       "<table border=\"1\" class=\"dataframe\">\n",
       "  <thead>\n",
       "    <tr style=\"text-align: right;\">\n",
       "      <th></th>\n",
       "      <th>credit_score</th>\n",
       "      <th>country</th>\n",
       "      <th>gender</th>\n",
       "      <th>age</th>\n",
       "      <th>tenure</th>\n",
       "      <th>balance</th>\n",
       "      <th>products_number</th>\n",
       "      <th>credit_card</th>\n",
       "      <th>active_member</th>\n",
       "      <th>estimated_salary</th>\n",
       "      <th>churn</th>\n",
       "      <th>Age Group</th>\n",
       "    </tr>\n",
       "  </thead>\n",
       "  <tbody>\n",
       "    <tr>\n",
       "      <th>9995</th>\n",
       "      <td>771</td>\n",
       "      <td>France</td>\n",
       "      <td>1</td>\n",
       "      <td>39</td>\n",
       "      <td>5</td>\n",
       "      <td>0.00</td>\n",
       "      <td>2</td>\n",
       "      <td>1</td>\n",
       "      <td>0</td>\n",
       "      <td>96270.64</td>\n",
       "      <td>0</td>\n",
       "      <td>31-40</td>\n",
       "    </tr>\n",
       "    <tr>\n",
       "      <th>9996</th>\n",
       "      <td>516</td>\n",
       "      <td>France</td>\n",
       "      <td>1</td>\n",
       "      <td>35</td>\n",
       "      <td>10</td>\n",
       "      <td>57369.61</td>\n",
       "      <td>1</td>\n",
       "      <td>1</td>\n",
       "      <td>1</td>\n",
       "      <td>101699.77</td>\n",
       "      <td>0</td>\n",
       "      <td>31-40</td>\n",
       "    </tr>\n",
       "    <tr>\n",
       "      <th>9997</th>\n",
       "      <td>709</td>\n",
       "      <td>France</td>\n",
       "      <td>0</td>\n",
       "      <td>36</td>\n",
       "      <td>7</td>\n",
       "      <td>0.00</td>\n",
       "      <td>1</td>\n",
       "      <td>0</td>\n",
       "      <td>1</td>\n",
       "      <td>42085.58</td>\n",
       "      <td>1</td>\n",
       "      <td>31-40</td>\n",
       "    </tr>\n",
       "    <tr>\n",
       "      <th>9998</th>\n",
       "      <td>772</td>\n",
       "      <td>Germany</td>\n",
       "      <td>1</td>\n",
       "      <td>42</td>\n",
       "      <td>3</td>\n",
       "      <td>75075.31</td>\n",
       "      <td>2</td>\n",
       "      <td>1</td>\n",
       "      <td>0</td>\n",
       "      <td>92888.52</td>\n",
       "      <td>1</td>\n",
       "      <td>41-50</td>\n",
       "    </tr>\n",
       "    <tr>\n",
       "      <th>9999</th>\n",
       "      <td>792</td>\n",
       "      <td>France</td>\n",
       "      <td>0</td>\n",
       "      <td>28</td>\n",
       "      <td>4</td>\n",
       "      <td>130142.79</td>\n",
       "      <td>1</td>\n",
       "      <td>1</td>\n",
       "      <td>0</td>\n",
       "      <td>38190.78</td>\n",
       "      <td>0</td>\n",
       "      <td>21-30</td>\n",
       "    </tr>\n",
       "  </tbody>\n",
       "</table>\n",
       "</div>"
      ],
      "text/plain": [
       "      credit_score  country  gender  age  tenure    balance  products_number  \\\n",
       "9995           771   France       1   39       5       0.00                2   \n",
       "9996           516   France       1   35      10   57369.61                1   \n",
       "9997           709   France       0   36       7       0.00                1   \n",
       "9998           772  Germany       1   42       3   75075.31                2   \n",
       "9999           792   France       0   28       4  130142.79                1   \n",
       "\n",
       "      credit_card  active_member  estimated_salary  churn Age Group  \n",
       "9995            1              0          96270.64      0     31-40  \n",
       "9996            1              1         101699.77      0     31-40  \n",
       "9997            0              1          42085.58      1     31-40  \n",
       "9998            1              0          92888.52      1     41-50  \n",
       "9999            1              0          38190.78      0     21-30  "
      ]
     },
     "execution_count": 43,
     "metadata": {},
     "output_type": "execute_result"
    }
   ],
   "source": [
    "# Show data after convert values in gender column for example 5 records from tail\n",
    "data_churn_New[-5:]"
   ]
  },
  {
   "cell_type": "markdown",
   "id": "d1f90b34",
   "metadata": {},
   "source": [
    "**Result:**\n",
    "   - We converted **gender** column values to **numeric discrete values**"
   ]
  },
  {
   "cell_type": "markdown",
   "id": "53749459",
   "metadata": {},
   "source": [
    "### 🟣 C: One-Hot Encoding method"
   ]
  },
  {
   "cell_type": "markdown",
   "id": "371b18ff",
   "metadata": {},
   "source": [
    "- **One hot encoding** is a preprocessing technique in machine learning that transforms categorical variables into numerical values, enabling algorithms to better understand and learn from categorical data.\n",
    "  - **from sklearn.preprocessing import OneHotEncoder**\n",
    "- **pandas.get_dummies()** is used for data manipulation. It converts categorical data into dummy or indicator variables.\n",
    "** **\n",
    "- In the following, we want to convert **country** values to **numeric discrete values** using the **get_dammies method**.\n",
    "  - **cause: in terms of memory, get_dummies method in pandas works better than one-hot encoding method in SKlearn.**"
   ]
  },
  {
   "cell_type": "code",
   "execution_count": 44,
   "id": "a6999e0b",
   "metadata": {},
   "outputs": [
    {
     "data": {
      "text/html": [
       "<div>\n",
       "<style scoped>\n",
       "    .dataframe tbody tr th:only-of-type {\n",
       "        vertical-align: middle;\n",
       "    }\n",
       "\n",
       "    .dataframe tbody tr th {\n",
       "        vertical-align: top;\n",
       "    }\n",
       "\n",
       "    .dataframe thead th {\n",
       "        text-align: right;\n",
       "    }\n",
       "</style>\n",
       "<table border=\"1\" class=\"dataframe\">\n",
       "  <thead>\n",
       "    <tr style=\"text-align: right;\">\n",
       "      <th></th>\n",
       "      <th>credit_score</th>\n",
       "      <th>gender</th>\n",
       "      <th>age</th>\n",
       "      <th>tenure</th>\n",
       "      <th>balance</th>\n",
       "      <th>products_number</th>\n",
       "      <th>credit_card</th>\n",
       "      <th>active_member</th>\n",
       "      <th>estimated_salary</th>\n",
       "      <th>churn</th>\n",
       "      <th>country_Germany</th>\n",
       "      <th>country_Spain</th>\n",
       "      <th>Age Group_21-30</th>\n",
       "      <th>Age Group_31-40</th>\n",
       "      <th>Age Group_41-50</th>\n",
       "      <th>Age Group_51-60</th>\n",
       "      <th>Age Group_61-70</th>\n",
       "      <th>Age Group_71+</th>\n",
       "    </tr>\n",
       "  </thead>\n",
       "  <tbody>\n",
       "    <tr>\n",
       "      <th>0</th>\n",
       "      <td>619</td>\n",
       "      <td>0</td>\n",
       "      <td>42</td>\n",
       "      <td>2</td>\n",
       "      <td>0.00</td>\n",
       "      <td>1</td>\n",
       "      <td>1</td>\n",
       "      <td>1</td>\n",
       "      <td>101348.88</td>\n",
       "      <td>1</td>\n",
       "      <td>0</td>\n",
       "      <td>0</td>\n",
       "      <td>0</td>\n",
       "      <td>0</td>\n",
       "      <td>1</td>\n",
       "      <td>0</td>\n",
       "      <td>0</td>\n",
       "      <td>0</td>\n",
       "    </tr>\n",
       "    <tr>\n",
       "      <th>1</th>\n",
       "      <td>608</td>\n",
       "      <td>0</td>\n",
       "      <td>41</td>\n",
       "      <td>1</td>\n",
       "      <td>83807.86</td>\n",
       "      <td>1</td>\n",
       "      <td>0</td>\n",
       "      <td>1</td>\n",
       "      <td>112542.58</td>\n",
       "      <td>0</td>\n",
       "      <td>0</td>\n",
       "      <td>1</td>\n",
       "      <td>0</td>\n",
       "      <td>0</td>\n",
       "      <td>1</td>\n",
       "      <td>0</td>\n",
       "      <td>0</td>\n",
       "      <td>0</td>\n",
       "    </tr>\n",
       "    <tr>\n",
       "      <th>2</th>\n",
       "      <td>502</td>\n",
       "      <td>0</td>\n",
       "      <td>42</td>\n",
       "      <td>8</td>\n",
       "      <td>159660.80</td>\n",
       "      <td>3</td>\n",
       "      <td>1</td>\n",
       "      <td>0</td>\n",
       "      <td>113931.57</td>\n",
       "      <td>1</td>\n",
       "      <td>0</td>\n",
       "      <td>0</td>\n",
       "      <td>0</td>\n",
       "      <td>0</td>\n",
       "      <td>1</td>\n",
       "      <td>0</td>\n",
       "      <td>0</td>\n",
       "      <td>0</td>\n",
       "    </tr>\n",
       "    <tr>\n",
       "      <th>3</th>\n",
       "      <td>699</td>\n",
       "      <td>0</td>\n",
       "      <td>39</td>\n",
       "      <td>1</td>\n",
       "      <td>0.00</td>\n",
       "      <td>2</td>\n",
       "      <td>0</td>\n",
       "      <td>0</td>\n",
       "      <td>93826.63</td>\n",
       "      <td>0</td>\n",
       "      <td>0</td>\n",
       "      <td>0</td>\n",
       "      <td>0</td>\n",
       "      <td>1</td>\n",
       "      <td>0</td>\n",
       "      <td>0</td>\n",
       "      <td>0</td>\n",
       "      <td>0</td>\n",
       "    </tr>\n",
       "    <tr>\n",
       "      <th>4</th>\n",
       "      <td>850</td>\n",
       "      <td>0</td>\n",
       "      <td>43</td>\n",
       "      <td>2</td>\n",
       "      <td>125510.82</td>\n",
       "      <td>1</td>\n",
       "      <td>1</td>\n",
       "      <td>1</td>\n",
       "      <td>79084.10</td>\n",
       "      <td>0</td>\n",
       "      <td>0</td>\n",
       "      <td>1</td>\n",
       "      <td>0</td>\n",
       "      <td>0</td>\n",
       "      <td>1</td>\n",
       "      <td>0</td>\n",
       "      <td>0</td>\n",
       "      <td>0</td>\n",
       "    </tr>\n",
       "    <tr>\n",
       "      <th>...</th>\n",
       "      <td>...</td>\n",
       "      <td>...</td>\n",
       "      <td>...</td>\n",
       "      <td>...</td>\n",
       "      <td>...</td>\n",
       "      <td>...</td>\n",
       "      <td>...</td>\n",
       "      <td>...</td>\n",
       "      <td>...</td>\n",
       "      <td>...</td>\n",
       "      <td>...</td>\n",
       "      <td>...</td>\n",
       "      <td>...</td>\n",
       "      <td>...</td>\n",
       "      <td>...</td>\n",
       "      <td>...</td>\n",
       "      <td>...</td>\n",
       "      <td>...</td>\n",
       "    </tr>\n",
       "    <tr>\n",
       "      <th>9995</th>\n",
       "      <td>771</td>\n",
       "      <td>1</td>\n",
       "      <td>39</td>\n",
       "      <td>5</td>\n",
       "      <td>0.00</td>\n",
       "      <td>2</td>\n",
       "      <td>1</td>\n",
       "      <td>0</td>\n",
       "      <td>96270.64</td>\n",
       "      <td>0</td>\n",
       "      <td>0</td>\n",
       "      <td>0</td>\n",
       "      <td>0</td>\n",
       "      <td>1</td>\n",
       "      <td>0</td>\n",
       "      <td>0</td>\n",
       "      <td>0</td>\n",
       "      <td>0</td>\n",
       "    </tr>\n",
       "    <tr>\n",
       "      <th>9996</th>\n",
       "      <td>516</td>\n",
       "      <td>1</td>\n",
       "      <td>35</td>\n",
       "      <td>10</td>\n",
       "      <td>57369.61</td>\n",
       "      <td>1</td>\n",
       "      <td>1</td>\n",
       "      <td>1</td>\n",
       "      <td>101699.77</td>\n",
       "      <td>0</td>\n",
       "      <td>0</td>\n",
       "      <td>0</td>\n",
       "      <td>0</td>\n",
       "      <td>1</td>\n",
       "      <td>0</td>\n",
       "      <td>0</td>\n",
       "      <td>0</td>\n",
       "      <td>0</td>\n",
       "    </tr>\n",
       "    <tr>\n",
       "      <th>9997</th>\n",
       "      <td>709</td>\n",
       "      <td>0</td>\n",
       "      <td>36</td>\n",
       "      <td>7</td>\n",
       "      <td>0.00</td>\n",
       "      <td>1</td>\n",
       "      <td>0</td>\n",
       "      <td>1</td>\n",
       "      <td>42085.58</td>\n",
       "      <td>1</td>\n",
       "      <td>0</td>\n",
       "      <td>0</td>\n",
       "      <td>0</td>\n",
       "      <td>1</td>\n",
       "      <td>0</td>\n",
       "      <td>0</td>\n",
       "      <td>0</td>\n",
       "      <td>0</td>\n",
       "    </tr>\n",
       "    <tr>\n",
       "      <th>9998</th>\n",
       "      <td>772</td>\n",
       "      <td>1</td>\n",
       "      <td>42</td>\n",
       "      <td>3</td>\n",
       "      <td>75075.31</td>\n",
       "      <td>2</td>\n",
       "      <td>1</td>\n",
       "      <td>0</td>\n",
       "      <td>92888.52</td>\n",
       "      <td>1</td>\n",
       "      <td>1</td>\n",
       "      <td>0</td>\n",
       "      <td>0</td>\n",
       "      <td>0</td>\n",
       "      <td>1</td>\n",
       "      <td>0</td>\n",
       "      <td>0</td>\n",
       "      <td>0</td>\n",
       "    </tr>\n",
       "    <tr>\n",
       "      <th>9999</th>\n",
       "      <td>792</td>\n",
       "      <td>0</td>\n",
       "      <td>28</td>\n",
       "      <td>4</td>\n",
       "      <td>130142.79</td>\n",
       "      <td>1</td>\n",
       "      <td>1</td>\n",
       "      <td>0</td>\n",
       "      <td>38190.78</td>\n",
       "      <td>0</td>\n",
       "      <td>0</td>\n",
       "      <td>0</td>\n",
       "      <td>1</td>\n",
       "      <td>0</td>\n",
       "      <td>0</td>\n",
       "      <td>0</td>\n",
       "      <td>0</td>\n",
       "      <td>0</td>\n",
       "    </tr>\n",
       "  </tbody>\n",
       "</table>\n",
       "<p>10000 rows × 18 columns</p>\n",
       "</div>"
      ],
      "text/plain": [
       "      credit_score  gender  age  tenure    balance  products_number  \\\n",
       "0              619       0   42       2       0.00                1   \n",
       "1              608       0   41       1   83807.86                1   \n",
       "2              502       0   42       8  159660.80                3   \n",
       "3              699       0   39       1       0.00                2   \n",
       "4              850       0   43       2  125510.82                1   \n",
       "...            ...     ...  ...     ...        ...              ...   \n",
       "9995           771       1   39       5       0.00                2   \n",
       "9996           516       1   35      10   57369.61                1   \n",
       "9997           709       0   36       7       0.00                1   \n",
       "9998           772       1   42       3   75075.31                2   \n",
       "9999           792       0   28       4  130142.79                1   \n",
       "\n",
       "      credit_card  active_member  estimated_salary  churn  country_Germany  \\\n",
       "0               1              1         101348.88      1                0   \n",
       "1               0              1         112542.58      0                0   \n",
       "2               1              0         113931.57      1                0   \n",
       "3               0              0          93826.63      0                0   \n",
       "4               1              1          79084.10      0                0   \n",
       "...           ...            ...               ...    ...              ...   \n",
       "9995            1              0          96270.64      0                0   \n",
       "9996            1              1         101699.77      0                0   \n",
       "9997            0              1          42085.58      1                0   \n",
       "9998            1              0          92888.52      1                1   \n",
       "9999            1              0          38190.78      0                0   \n",
       "\n",
       "      country_Spain  Age Group_21-30  Age Group_31-40  Age Group_41-50  \\\n",
       "0                 0                0                0                1   \n",
       "1                 1                0                0                1   \n",
       "2                 0                0                0                1   \n",
       "3                 0                0                1                0   \n",
       "4                 1                0                0                1   \n",
       "...             ...              ...              ...              ...   \n",
       "9995              0                0                1                0   \n",
       "9996              0                0                1                0   \n",
       "9997              0                0                1                0   \n",
       "9998              0                0                0                1   \n",
       "9999              0                1                0                0   \n",
       "\n",
       "      Age Group_51-60  Age Group_61-70  Age Group_71+  \n",
       "0                   0                0              0  \n",
       "1                   0                0              0  \n",
       "2                   0                0              0  \n",
       "3                   0                0              0  \n",
       "4                   0                0              0  \n",
       "...               ...              ...            ...  \n",
       "9995                0                0              0  \n",
       "9996                0                0              0  \n",
       "9997                0                0              0  \n",
       "9998                0                0              0  \n",
       "9999                0                0              0  \n",
       "\n",
       "[10000 rows x 18 columns]"
      ]
     },
     "execution_count": 44,
     "metadata": {},
     "output_type": "execute_result"
    }
   ],
   "source": [
    "#data_churn_New.drop(\"Age Group\", axis=1 ,inplace=True)\n",
    "data_dummies_churn = pd.get_dummies(data_churn_New, drop_first=True)\n",
    "data_dummies_churn"
   ]
  },
  {
   "cell_type": "markdown",
   "id": "f08cfa24",
   "metadata": {},
   "source": [
    "**Result:**\n",
    "   - We converted **country** and **Age Group** columns values to **numeric discrete values** using get_dummies method."
   ]
  },
  {
   "cell_type": "markdown",
   "id": "9f209f45",
   "metadata": {},
   "source": [
    "### 🟣 D: Check Correlation"
   ]
  },
  {
   "cell_type": "code",
   "execution_count": 45,
   "id": "e88de6ae",
   "metadata": {},
   "outputs": [
    {
     "data": {
      "image/png": "[encoded data removed]",
      "text/plain": [
       "<Figure size 1900x800 with 1 Axes>"
      ]
     },
     "metadata": {},
     "output_type": "display_data"
    }
   ],
   "source": [
    "df = data_dummies_churn.drop(columns='churn') # witout the target column 'churn'\n",
    "\n",
    "#Computing the correlation between the features and the target column\n",
    "corrw = df.corrwith(data_dummies_churn['churn'])\n",
    "\n",
    "#Plotting the bar chart using matplotlib\n",
    "plt.figure(figsize=(19, 8))\n",
    "plt.bar(corrw.index, corrw.values, color='skyblue', edgecolor='darkred')\n",
    "\n",
    "plt.title('Features Correlation with target Column (churn)', fontsize=16)\n",
    "plt.xlabel('Features', fontsize=12)\n",
    "plt.ylabel('Correlation', fontsize=12)\n",
    "plt.xticks(rotation=45)\n",
    "plt.grid(True)\n",
    "\n",
    "# Adding annotations to the bars\n",
    "for i, value in enumerate(corrw.values):\n",
    "    label = f\"{value:.2f}\"\n",
    "    plt.annotate(label, (i, value), ha='center', va='bottom', fontsize=12)\n",
    "\n",
    "# Displaying the plot\n",
    "plt.show()"
   ]
  },
  {
   "cell_type": "markdown",
   "id": "4e5a0988",
   "metadata": {},
   "source": [
    "### 🟣 E: Feature Selection"
   ]
  },
  {
   "cell_type": "code",
   "execution_count": 46,
   "id": "13fda496",
   "metadata": {},
   "outputs": [
    {
     "data": {
      "text/html": [
       "<div>\n",
       "<style scoped>\n",
       "    .dataframe tbody tr th:only-of-type {\n",
       "        vertical-align: middle;\n",
       "    }\n",
       "\n",
       "    .dataframe tbody tr th {\n",
       "        vertical-align: top;\n",
       "    }\n",
       "\n",
       "    .dataframe thead th {\n",
       "        text-align: right;\n",
       "    }\n",
       "</style>\n",
       "<table border=\"1\" class=\"dataframe\">\n",
       "  <thead>\n",
       "    <tr style=\"text-align: right;\">\n",
       "      <th></th>\n",
       "      <th>age</th>\n",
       "      <th>Age Group_51-60</th>\n",
       "      <th>Age Group_41-50</th>\n",
       "      <th>country_Germany</th>\n",
       "      <th>balance</th>\n",
       "      <th>gender</th>\n",
       "      <th>Age Group_21-30</th>\n",
       "      <th>active_member</th>\n",
       "      <th>Age Group_31-40</th>\n",
       "      <th>churn</th>\n",
       "    </tr>\n",
       "  </thead>\n",
       "  <tbody>\n",
       "    <tr>\n",
       "      <th>0</th>\n",
       "      <td>42</td>\n",
       "      <td>0</td>\n",
       "      <td>1</td>\n",
       "      <td>0</td>\n",
       "      <td>0.00</td>\n",
       "      <td>0</td>\n",
       "      <td>0</td>\n",
       "      <td>1</td>\n",
       "      <td>0</td>\n",
       "      <td>1</td>\n",
       "    </tr>\n",
       "    <tr>\n",
       "      <th>1</th>\n",
       "      <td>41</td>\n",
       "      <td>0</td>\n",
       "      <td>1</td>\n",
       "      <td>0</td>\n",
       "      <td>83807.86</td>\n",
       "      <td>0</td>\n",
       "      <td>0</td>\n",
       "      <td>1</td>\n",
       "      <td>0</td>\n",
       "      <td>0</td>\n",
       "    </tr>\n",
       "    <tr>\n",
       "      <th>2</th>\n",
       "      <td>42</td>\n",
       "      <td>0</td>\n",
       "      <td>1</td>\n",
       "      <td>0</td>\n",
       "      <td>159660.80</td>\n",
       "      <td>0</td>\n",
       "      <td>0</td>\n",
       "      <td>0</td>\n",
       "      <td>0</td>\n",
       "      <td>1</td>\n",
       "    </tr>\n",
       "    <tr>\n",
       "      <th>3</th>\n",
       "      <td>39</td>\n",
       "      <td>0</td>\n",
       "      <td>0</td>\n",
       "      <td>0</td>\n",
       "      <td>0.00</td>\n",
       "      <td>0</td>\n",
       "      <td>0</td>\n",
       "      <td>0</td>\n",
       "      <td>1</td>\n",
       "      <td>0</td>\n",
       "    </tr>\n",
       "    <tr>\n",
       "      <th>4</th>\n",
       "      <td>43</td>\n",
       "      <td>0</td>\n",
       "      <td>1</td>\n",
       "      <td>0</td>\n",
       "      <td>125510.82</td>\n",
       "      <td>0</td>\n",
       "      <td>0</td>\n",
       "      <td>1</td>\n",
       "      <td>0</td>\n",
       "      <td>0</td>\n",
       "    </tr>\n",
       "    <tr>\n",
       "      <th>...</th>\n",
       "      <td>...</td>\n",
       "      <td>...</td>\n",
       "      <td>...</td>\n",
       "      <td>...</td>\n",
       "      <td>...</td>\n",
       "      <td>...</td>\n",
       "      <td>...</td>\n",
       "      <td>...</td>\n",
       "      <td>...</td>\n",
       "      <td>...</td>\n",
       "    </tr>\n",
       "    <tr>\n",
       "      <th>9995</th>\n",
       "      <td>39</td>\n",
       "      <td>0</td>\n",
       "      <td>0</td>\n",
       "      <td>0</td>\n",
       "      <td>0.00</td>\n",
       "      <td>1</td>\n",
       "      <td>0</td>\n",
       "      <td>0</td>\n",
       "      <td>1</td>\n",
       "      <td>0</td>\n",
       "    </tr>\n",
       "    <tr>\n",
       "      <th>9996</th>\n",
       "      <td>35</td>\n",
       "      <td>0</td>\n",
       "      <td>0</td>\n",
       "      <td>0</td>\n",
       "      <td>57369.61</td>\n",
       "      <td>1</td>\n",
       "      <td>0</td>\n",
       "      <td>1</td>\n",
       "      <td>1</td>\n",
       "      <td>0</td>\n",
       "    </tr>\n",
       "    <tr>\n",
       "      <th>9997</th>\n",
       "      <td>36</td>\n",
       "      <td>0</td>\n",
       "      <td>0</td>\n",
       "      <td>0</td>\n",
       "      <td>0.00</td>\n",
       "      <td>0</td>\n",
       "      <td>0</td>\n",
       "      <td>1</td>\n",
       "      <td>1</td>\n",
       "      <td>1</td>\n",
       "    </tr>\n",
       "    <tr>\n",
       "      <th>9998</th>\n",
       "      <td>42</td>\n",
       "      <td>0</td>\n",
       "      <td>1</td>\n",
       "      <td>1</td>\n",
       "      <td>75075.31</td>\n",
       "      <td>1</td>\n",
       "      <td>0</td>\n",
       "      <td>0</td>\n",
       "      <td>0</td>\n",
       "      <td>1</td>\n",
       "    </tr>\n",
       "    <tr>\n",
       "      <th>9999</th>\n",
       "      <td>28</td>\n",
       "      <td>0</td>\n",
       "      <td>0</td>\n",
       "      <td>0</td>\n",
       "      <td>130142.79</td>\n",
       "      <td>0</td>\n",
       "      <td>1</td>\n",
       "      <td>0</td>\n",
       "      <td>0</td>\n",
       "      <td>0</td>\n",
       "    </tr>\n",
       "  </tbody>\n",
       "</table>\n",
       "<p>10000 rows × 10 columns</p>\n",
       "</div>"
      ],
      "text/plain": [
       "      age  Age Group_51-60  Age Group_41-50  country_Germany    balance  \\\n",
       "0      42                0                1                0       0.00   \n",
       "1      41                0                1                0   83807.86   \n",
       "2      42                0                1                0  159660.80   \n",
       "3      39                0                0                0       0.00   \n",
       "4      43                0                1                0  125510.82   \n",
       "...   ...              ...              ...              ...        ...   \n",
       "9995   39                0                0                0       0.00   \n",
       "9996   35                0                0                0   57369.61   \n",
       "9997   36                0                0                0       0.00   \n",
       "9998   42                0                1                1   75075.31   \n",
       "9999   28                0                0                0  130142.79   \n",
       "\n",
       "      gender  Age Group_21-30  active_member  Age Group_31-40  churn  \n",
       "0          0                0              1                0      1  \n",
       "1          0                0              1                0      0  \n",
       "2          0                0              0                0      1  \n",
       "3          0                0              0                1      0  \n",
       "4          0                0              1                0      0  \n",
       "...      ...              ...            ...              ...    ...  \n",
       "9995       1                0              0                1      0  \n",
       "9996       1                0              1                1      0  \n",
       "9997       0                0              1                1      1  \n",
       "9998       1                0              0                0      1  \n",
       "9999       0                1              0                0      0  \n",
       "\n",
       "[10000 rows x 10 columns]"
      ]
     },
     "execution_count": 46,
     "metadata": {},
     "output_type": "execute_result"
    }
   ],
   "source": [
    "columns = ['age', 'Age Group_51-60', 'Age Group_41-50', 'country_Germany', 'balance','gender',\n",
    "           'Age Group_21-30', 'active_member', 'Age Group_31-40', 'churn']\n",
    "Feature_selected = data_dummies_churn[columns]\n",
    "Feature_selected"
   ]
  },
  {
   "cell_type": "markdown",
   "id": "bc6969be",
   "metadata": {},
   "source": [
    "# Step 7: Split data"
   ]
  },
  {
   "cell_type": "markdown",
   "id": "82d6f5a6",
   "metadata": {},
   "source": [
    " ### 🟣 A: Specify X, y"
   ]
  },
  {
   "cell_type": "code",
   "execution_count": 47,
   "id": "1e341000",
   "metadata": {},
   "outputs": [],
   "source": [
    "#Select final dataset from data_dummies_churn or Feature_selected\n",
    "\n",
    "#data_dummies_churn dataset\n",
    "X = data_dummies_churn.drop(['churn'], axis=1)\n",
    "y = data_dummies_churn['churn']\n",
    "\n",
    "#Feature_selected dataset\n",
    "#X = Feature_selected.drop(['churn'], axis=1)\n",
    "#y = Feature_selected['churn']"
   ]
  },
  {
   "cell_type": "code",
   "execution_count": 48,
   "id": "8a31c98f",
   "metadata": {},
   "outputs": [
    {
     "data": {
      "text/plain": [
       "Index(['credit_score', 'gender', 'age', 'tenure', 'balance', 'products_number',\n",
       "       'credit_card', 'active_member', 'estimated_salary', 'country_Germany',\n",
       "       'country_Spain', 'Age Group_21-30', 'Age Group_31-40',\n",
       "       'Age Group_41-50', 'Age Group_51-60', 'Age Group_61-70',\n",
       "       'Age Group_71+'],\n",
       "      dtype='object')"
      ]
     },
     "execution_count": 48,
     "metadata": {},
     "output_type": "execute_result"
    }
   ],
   "source": [
    "X.columns"
   ]
  },
  {
   "cell_type": "markdown",
   "id": "16df7b19",
   "metadata": {},
   "source": [
    "### 🟣 B: Scale Features"
   ]
  },
  {
   "cell_type": "code",
   "execution_count": 49,
   "id": "ec012758",
   "metadata": {},
   "outputs": [],
   "source": [
    "scaler = StandardScaler()\n",
    "scaled_X = pd.DataFrame(scaler.fit_transform(X))\n",
    "scaled_X.columns = X.columns"
   ]
  },
  {
   "cell_type": "markdown",
   "id": "34f29f87",
   "metadata": {},
   "source": [
    "### 🟣 C: train_test_split"
   ]
  },
  {
   "cell_type": "code",
   "execution_count": 50,
   "id": "97fcfa1e",
   "metadata": {},
   "outputs": [],
   "source": [
    "X_train, X_test, y_train, y_test = train_test_split(scaled_X, y, test_size=0.3, random_state=42)"
   ]
  },
  {
   "cell_type": "code",
   "execution_count": 51,
   "id": "263dc50c",
   "metadata": {},
   "outputs": [
    {
     "data": {
      "text/plain": [
       "(7000, 17)"
      ]
     },
     "execution_count": 51,
     "metadata": {},
     "output_type": "execute_result"
    }
   ],
   "source": [
    "X_train.shape"
   ]
  },
  {
   "cell_type": "code",
   "execution_count": 52,
   "id": "c0041356",
   "metadata": {},
   "outputs": [
    {
     "data": {
      "text/plain": [
       "(3000, 17)"
      ]
     },
     "execution_count": 52,
     "metadata": {},
     "output_type": "execute_result"
    }
   ],
   "source": [
    "X_test.shape"
   ]
  },
  {
   "cell_type": "code",
   "execution_count": 53,
   "id": "8ae44a25",
   "metadata": {},
   "outputs": [
    {
     "data": {
      "text/plain": [
       "(7000,)"
      ]
     },
     "execution_count": 53,
     "metadata": {},
     "output_type": "execute_result"
    }
   ],
   "source": [
    "y_train.shape"
   ]
  },
  {
   "cell_type": "code",
   "execution_count": 54,
   "id": "827fa640",
   "metadata": {},
   "outputs": [
    {
     "data": {
      "text/plain": [
       "(3000,)"
      ]
     },
     "execution_count": 54,
     "metadata": {},
     "output_type": "execute_result"
    }
   ],
   "source": [
    "y_test.shape"
   ]
  },
  {
   "cell_type": "markdown",
   "id": "a49062cb",
   "metadata": {},
   "source": [
    "# Step 8: Logistic Regression"
   ]
  },
  {
   "cell_type": "markdown",
   "id": "3c158756",
   "metadata": {},
   "source": [
    "### 🟣 A: Create the Model"
   ]
  },
  {
   "cell_type": "code",
   "execution_count": 55,
   "id": "410070f0",
   "metadata": {},
   "outputs": [],
   "source": [
    "model = LogisticRegression()"
   ]
  },
  {
   "cell_type": "markdown",
   "id": "9c3189b2",
   "metadata": {},
   "source": [
    "### 🟣 B: Train the Model"
   ]
  },
  {
   "cell_type": "code",
   "execution_count": 56,
   "id": "9a877438",
   "metadata": {},
   "outputs": [
    {
     "data": {
      "text/html": [
       "<style>#sk-container-id-1 {color: black;background-color: white;}#sk-container-id-1 pre{padding: 0;}#sk-container-id-1 div.sk-toggleable {background-color: white;}#sk-container-id-1 label.sk-toggleable__label {cursor: pointer;display: block;width: 100%;margin-bottom: 0;padding: 0.3em;box-sizing: border-box;text-align: center;}#sk-container-id-1 label.sk-toggleable__label-arrow:before {content: \"▸\";float: left;margin-right: 0.25em;color: #696969;}#sk-container-id-1 label.sk-toggleable__label-arrow:hover:before {color: black;}#sk-container-id-1 div.sk-estimator:hover label.sk-toggleable__label-arrow:before {color: black;}#sk-container-id-1 div.sk-toggleable__content {max-height: 0;max-width: 0;overflow: hidden;text-align: left;background-color: #f0f8ff;}#sk-container-id-1 div.sk-toggleable__content pre {margin: 0.2em;color: black;border-radius: 0.25em;background-color: #f0f8ff;}#sk-container-id-1 input.sk-toggleable__control:checked~div.sk-toggleable__content {max-height: 200px;max-width: 100%;overflow: auto;}#sk-container-id-1 input.sk-toggleable__control:checked~label.sk-toggleable__label-arrow:before {content: \"▾\";}#sk-container-id-1 div.sk-estimator input.sk-toggleable__control:checked~label.sk-toggleable__label {background-color: #d4ebff;}#sk-container-id-1 div.sk-label input.sk-toggleable__control:checked~label.sk-toggleable__label {background-color: #d4ebff;}#sk-container-id-1 input.sk-hidden--visually {border: 0;clip: rect(1px 1px 1px 1px);clip: rect(1px, 1px, 1px, 1px);height: 1px;margin: -1px;overflow: hidden;padding: 0;position: absolute;width: 1px;}#sk-container-id-1 div.sk-estimator {font-family: monospace;background-color: #f0f8ff;border: 1px dotted black;border-radius: 0.25em;box-sizing: border-box;margin-bottom: 0.5em;}#sk-container-id-1 div.sk-estimator:hover {background-color: #d4ebff;}#sk-container-id-1 div.sk-parallel-item::after {content: \"\";width: 100%;border-bottom: 1px solid gray;flex-grow: 1;}#sk-container-id-1 div.sk-label:hover label.sk-toggleable__label {background-color: #d4ebff;}#sk-container-id-1 div.sk-serial::before {content: \"\";position: absolute;border-left: 1px solid gray;box-sizing: border-box;top: 0;bottom: 0;left: 50%;z-index: 0;}#sk-container-id-1 div.sk-serial {display: flex;flex-direction: column;align-items: center;background-color: white;padding-right: 0.2em;padding-left: 0.2em;position: relative;}#sk-container-id-1 div.sk-item {position: relative;z-index: 1;}#sk-container-id-1 div.sk-parallel {display: flex;align-items: stretch;justify-content: center;background-color: white;position: relative;}#sk-container-id-1 div.sk-item::before, #sk-container-id-1 div.sk-parallel-item::before {content: \"\";position: absolute;border-left: 1px solid gray;box-sizing: border-box;top: 0;bottom: 0;left: 50%;z-index: -1;}#sk-container-id-1 div.sk-parallel-item {display: flex;flex-direction: column;z-index: 1;position: relative;background-color: white;}#sk-container-id-1 div.sk-parallel-item:first-child::after {align-self: flex-end;width: 50%;}#sk-container-id-1 div.sk-parallel-item:last-child::after {align-self: flex-start;width: 50%;}#sk-container-id-1 div.sk-parallel-item:only-child::after {width: 0;}#sk-container-id-1 div.sk-dashed-wrapped {border: 1px dashed gray;margin: 0 0.4em 0.5em 0.4em;box-sizing: border-box;padding-bottom: 0.4em;background-color: white;}#sk-container-id-1 div.sk-label label {font-family: monospace;font-weight: bold;display: inline-block;line-height: 1.2em;}#sk-container-id-1 div.sk-label-container {text-align: center;}#sk-container-id-1 div.sk-container {/* jupyter's `normalize.less` sets `[hidden] { display: none; }` but bootstrap.min.css set `[hidden] { display: none !important; }` so we also need the `!important` here to be able to override the default hidden behavior on the sphinx rendered scikit-learn.org. See: https://github.com/scikit-learn/scikit-learn/issues/21755 */display: inline-block !important;position: relative;}#sk-container-id-1 div.sk-text-repr-fallback {display: none;}</style><div id=\"sk-container-id-1\" class=\"sk-top-container\"><div class=\"sk-text-repr-fallback\"><pre>LogisticRegression()</pre><b>In a Jupyter environment, please rerun this cell to show the HTML representation or trust the notebook. <br />On GitHub, the HTML representation is unable to render, please try loading this page with nbviewer.org.</b></div><div class=\"sk-container\" hidden><div class=\"sk-item\"><div class=\"sk-estimator sk-toggleable\"><input class=\"sk-toggleable__control sk-hidden--visually\" id=\"sk-estimator-id-1\" type=\"checkbox\" checked><label for=\"sk-estimator-id-1\" class=\"sk-toggleable__label sk-toggleable__label-arrow\">LogisticRegression</label><div class=\"sk-toggleable__content\"><pre>LogisticRegression()</pre></div></div></div></div></div>"
      ],
      "text/plain": [
       "LogisticRegression()"
      ]
     },
     "execution_count": 56,
     "metadata": {},
     "output_type": "execute_result"
    }
   ],
   "source": [
    "model.fit(X_train, y_train)"
   ]
  },
  {
   "cell_type": "markdown",
   "id": "db0aa21b",
   "metadata": {},
   "source": [
    "### 🟣 C: Show coefficient"
   ]
  },
  {
   "cell_type": "code",
   "execution_count": 57,
   "id": "37bef316",
   "metadata": {},
   "outputs": [
    {
     "data": {
      "text/plain": [
       "array([[-6.44245839e-02, -2.71726138e-01,  8.63644438e-01,\n",
       "        -6.43914553e-02,  1.64712265e-01, -4.33545194e-02,\n",
       "        -2.75775709e-02, -4.83071915e-01,  5.10762043e-04,\n",
       "         3.25965079e-01,  2.32855305e-02, -1.38917600e-01,\n",
       "        -2.48108161e-01,  2.55219493e-02,  6.94933871e-02,\n",
       "        -2.28522776e-01, -4.68878511e-01]])"
      ]
     },
     "execution_count": 57,
     "metadata": {},
     "output_type": "execute_result"
    }
   ],
   "source": [
    "model.coef_"
   ]
  },
  {
   "cell_type": "markdown",
   "id": "161193dd",
   "metadata": {},
   "source": [
    "### 🟣 D: Show interception"
   ]
  },
  {
   "cell_type": "code",
   "execution_count": 58,
   "id": "79e86161",
   "metadata": {},
   "outputs": [
    {
     "data": {
      "text/plain": [
       "array([-1.69466497])"
      ]
     },
     "execution_count": 58,
     "metadata": {},
     "output_type": "execute_result"
    }
   ],
   "source": [
    "model.intercept_"
   ]
  },
  {
   "cell_type": "markdown",
   "id": "127ff805",
   "metadata": {},
   "source": [
    "# Step 9: Prediction & Evaluation"
   ]
  },
  {
   "cell_type": "markdown",
   "id": "23d8b42d",
   "metadata": {},
   "source": [
    "### 🟣 A: Predicting test set"
   ]
  },
  {
   "cell_type": "code",
   "execution_count": 59,
   "id": "698fd4ae",
   "metadata": {},
   "outputs": [
    {
     "data": {
      "text/plain": [
       "array([0, 0, 0, ..., 0, 0, 0], dtype=int64)"
      ]
     },
     "execution_count": 59,
     "metadata": {},
     "output_type": "execute_result"
    }
   ],
   "source": [
    "y_pred = model.predict(X_test)\n",
    "y_pred"
   ]
  },
  {
   "cell_type": "markdown",
   "id": "ed1710d5",
   "metadata": {},
   "source": [
    "### 🟣 B: Evaluating the Model"
   ]
  },
  {
   "cell_type": "markdown",
   "id": "ea677b09",
   "metadata": {},
   "source": [
    "**Confusion Matrix**"
   ]
  },
  {
   "cell_type": "code",
   "execution_count": 60,
   "id": "fb998b10",
   "metadata": {},
   "outputs": [
    {
     "data": {
      "image/png": "[encoded data removed]",
      "text/plain": [
       "<Figure size 640x480 with 2 Axes>"
      ]
     },
     "metadata": {},
     "output_type": "display_data"
    }
   ],
   "source": [
    "cm = confusion_matrix(y_test, y_pred)\n",
    "sns.heatmap(cm, annot = True, cmap='Blues', fmt='.0f', robust=True, linecolor='darkblue', linewidths=1)\n",
    "plt.title('Confusion Matrix')\n",
    "plt.xlabel('Predicted')\n",
    "plt.ylabel('True')\n",
    "plt.show()"
   ]
  },
  {
   "cell_type": "markdown",
   "id": "8ebdad15",
   "metadata": {},
   "source": [
    "**Results:**\n",
    "- TP: 2331\n",
    "- TN: 189\n",
    "- FP: 85\n",
    "- FN: 395"
   ]
  },
  {
   "cell_type": "markdown",
   "id": "bdc0ea43",
   "metadata": {},
   "source": [
    "**1. Score report**"
   ]
  },
  {
   "cell_type": "code",
   "execution_count": 61,
   "id": "ca959660",
   "metadata": {},
   "outputs": [
    {
     "data": {
      "text/html": [
       "<div>\n",
       "<style scoped>\n",
       "    .dataframe tbody tr th:only-of-type {\n",
       "        vertical-align: middle;\n",
       "    }\n",
       "\n",
       "    .dataframe tbody tr th {\n",
       "        vertical-align: top;\n",
       "    }\n",
       "\n",
       "    .dataframe thead th {\n",
       "        text-align: right;\n",
       "    }\n",
       "</style>\n",
       "<table border=\"1\" class=\"dataframe\">\n",
       "  <thead>\n",
       "    <tr style=\"text-align: right;\">\n",
       "      <th></th>\n",
       "      <th>Model</th>\n",
       "      <th>Accuracy_Score</th>\n",
       "      <th>Precision_Score</th>\n",
       "      <th>Recall_Score</th>\n",
       "      <th>F1_Score</th>\n",
       "    </tr>\n",
       "  </thead>\n",
       "  <tbody>\n",
       "    <tr>\n",
       "      <th>Score:</th>\n",
       "      <td>Logistic Regression</td>\n",
       "      <td>84.0</td>\n",
       "      <td>68.98</td>\n",
       "      <td>32.36</td>\n",
       "      <td>44.06</td>\n",
       "    </tr>\n",
       "  </tbody>\n",
       "</table>\n",
       "</div>"
      ],
      "text/plain": [
       "                       Model  Accuracy_Score  Precision_Score  Recall_Score  \\\n",
       "Score:   Logistic Regression            84.0            68.98         32.36   \n",
       "\n",
       "         F1_Score  \n",
       "Score:      44.06  "
      ]
     },
     "execution_count": 61,
     "metadata": {},
     "output_type": "execute_result"
    }
   ],
   "source": [
    "accuracy = (accuracy_score(y_test, y_pred)*100).round(2)\n",
    "precision = (precision_score(y_test, y_pred)*100).round(2)\n",
    "recall = (recall_score(y_test, y_pred)*100).round(2)\n",
    "F1 = (f1_score(y_test, y_pred)*100).round(2)\n",
    " \n",
    "results = pd.DataFrame([['Logistic Regression', accuracy, precision, recall, F1]],\n",
    "                      columns=['Model', 'Accuracy_Score', 'Precision_Score', 'Recall_Score', 'F1_Score' ],\n",
    "                      index = ['Score: '])\n",
    "results"
   ]
  },
  {
   "cell_type": "markdown",
   "id": "4bf6aa77",
   "metadata": {},
   "source": [
    "**2. classification report**"
   ]
  },
  {
   "cell_type": "code",
   "execution_count": 62,
   "id": "dcf3cb8b",
   "metadata": {},
   "outputs": [
    {
     "name": "stdout",
     "output_type": "stream",
     "text": [
      "              precision    recall  f1-score   support\n",
      "\n",
      "           0       0.86      0.96      0.91      2416\n",
      "           1       0.69      0.32      0.44       584\n",
      "\n",
      "    accuracy                           0.84      3000\n",
      "   macro avg       0.77      0.64      0.67      3000\n",
      "weighted avg       0.82      0.84      0.82      3000\n",
      "\n"
     ]
    }
   ],
   "source": [
    "print(classification_report(y_test, y_pred))"
   ]
  },
  {
   "cell_type": "markdown",
   "id": "84619a66",
   "metadata": {},
   "source": [
    "**3. print log_loss**"
   ]
  },
  {
   "cell_type": "code",
   "execution_count": 63,
   "id": "3e71ea54",
   "metadata": {},
   "outputs": [
    {
     "data": {
      "text/plain": [
       "5.767"
      ]
     },
     "execution_count": 63,
     "metadata": {},
     "output_type": "execute_result"
    }
   ],
   "source": [
    "log_loss(y_test, y_pred).round(4)"
   ]
  },
  {
   "cell_type": "markdown",
   "id": "5ec5669d",
   "metadata": {},
   "source": [
    "**Log loss** is a metric evaluating classification model performance by measuring the disparity between predicted and actual probabilities. Rooted in information theory, it penalizes deviations, offering a continuous metric for optimization during model training. Lower log loss values signify better alignment between predicted and actual outcomes, making it a valuable tool for assessing the accuracy of probability estimates in classification problems."
   ]
  },
  {
   "cell_type": "markdown",
   "id": "ebbf33d5",
   "metadata": {},
   "source": [
    "#### 4. Using ROC curve"
   ]
  },
  {
   "cell_type": "markdown",
   "id": "a0cab61f",
   "metadata": {},
   "source": [
    "An ROC curve (receiver operating characteristic curve) is a graph showing the performance of a classification model at all classification thresholds. The ROC curve is a graph of the specificity vs sensitivity i.e specificity is the % actual negatives correctly predicted and sensitivity being the % actual positives correctly predicted.\n",
    "\n",
    "The ROC curve is the plot of the true positive rate (TPR) against the false positive rate (FPR) at each threshold setting."
   ]
  },
  {
   "cell_type": "code",
   "execution_count": 64,
   "id": "6005e4d9",
   "metadata": {},
   "outputs": [
    {
     "data": {
      "image/png": "[encoded data removed]",
      "text/plain": [
       "<Figure size 640x480 with 1 Axes>"
      ]
     },
     "metadata": {},
     "output_type": "display_data"
    }
   ],
   "source": [
    "import sklearn.metrics as metrics\n",
    "\n",
    "y_pred_proba = model.predict_proba(X_test)\n",
    "fpr, tpr, thresholds = roc_curve(y_test, y_pred_proba[:, 1])\n",
    "roc_auc = metrics.auc(fpr, tpr)\n",
    "\n",
    "plt.title('Receiver Operating Characteristic (ROC)')\n",
    "plt.plot(fpr, tpr, label = 'AUC = %0.4f' % roc_auc)\n",
    "plt.legend(loc = 'lower right')\n",
    "plt.plot([0, 1], [0, 1], linestyle='--')\n",
    "plt.xlabel('1 - specificity (FPR)')\n",
    "plt.ylabel('sensitivity (TPR)')\n",
    "plt.show()"
   ]
  },
  {
   "cell_type": "markdown",
   "id": "bcdb6cd4",
   "metadata": {},
   "source": [
    "### Observation:"
   ]
  },
  {
   "cell_type": "markdown",
   "id": "f19b14af",
   "metadata": {},
   "source": [
    "#### - Logistic Regression model is good!\n",
    "#### - specially, Accuracy is 84% and  AUC is good score (79.73%) based on the figure below."
   ]
  },
  {
   "cell_type": "markdown",
   "id": "67d5e379",
   "metadata": {},
   "source": [
    "<div style=\"align:center;\"> <img src=\"Images/ROC.png\" width=\"800\" height=\"700\"/> </div>"
   ]
  },
  {
   "cell_type": "markdown",
   "id": "8f6bf3c8",
   "metadata": {},
   "source": [
    "<div class=\"alert alert-success\" role=\"alert\">\n",
    "     <h1 class=\"alert-heading\">Well done!</h1>\n",
    "     <p> Best Wishes!, Nourzad</p>\n",
    "</div>"
   ]
  }
 ],
 "metadata": {
  "kernelspec": {
   "display_name": "Python 3 (ipykernel)",
   "language": "python",
   "name": "python3"
  },
  "language_info": {
   "codemirror_mode": {
    "name": "ipython",
    "version": 3
   },
   "file_extension": ".py",
   "mimetype": "text/x-python",
   "name": "python",
   "nbconvert_exporter": "python",
   "pygments_lexer": "ipython3",
   "version": "3.10.9"
  }
 },
 "nbformat": 4,
 "nbformat_minor": 5
}
